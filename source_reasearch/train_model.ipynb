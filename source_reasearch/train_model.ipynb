{
 "cells": [
  {
   "cell_type": "markdown",
   "id": "W43jOHGDpnUl",
   "metadata": {
    "id": "W43jOHGDpnUl"
   },
   "source": [
    "## 1.Import Library"
   ]
  },
  {
   "cell_type": "code",
   "execution_count": 32,
   "id": "9ab33bdb-071d-4add-a886-2d9b438b4e20",
   "metadata": {
    "id": "9ab33bdb-071d-4add-a886-2d9b438b4e20"
   },
   "outputs": [],
   "source": [
    "import pandas as pd\n",
    "import numpy as np\n",
    "\n",
    "\n",
    "# Modeling\n",
    "import tensorflow as tf\n",
    "from keras.utils import to_categorical\n",
    "from keras.layers import LSTM, Dense, TimeDistributed, Embedding, Bidirectional, Dropout, SpatialDropout1D\n",
    "from keras.models import Sequential, Model\n",
    "from keras.callbacks import ModelCheckpoint\n",
    "from keras_contrib.layers import CRF\n",
    "\n",
    "from sklearn.model_selection import train_test_split\n",
    "from sklearn.metrics import classification_report, f1_score, make_scorer\n",
    "from seqeval.metrics import precision_score, recall_score, f1_score as seqeval_f1_score, classification_report as seqeval_classification_report\n",
    "\n",
    "from tensorflow.keras.preprocessing.text import text_to_word_sequence\n",
    "from tensorflow.keras.preprocessing.sequence import pad_sequences\n"
   ]
  },
  {
   "cell_type": "markdown",
   "id": "zsMLa7bYpr7j",
   "metadata": {
    "id": "zsMLa7bYpr7j"
   },
   "source": [
    "## 2.1 Built model"
   ]
  },
  {
   "cell_type": "markdown",
   "id": "4283d375",
   "metadata": {},
   "source": [
    "### 2.1.1.Explore data analysis"
   ]
  },
  {
   "cell_type": "code",
   "execution_count": 33,
   "id": "ff120fa3-85e7-4da1-88c9-7680a519e952",
   "metadata": {
    "id": "ff120fa3-85e7-4da1-88c9-7680a519e952"
   },
   "outputs": [],
   "source": [
    "df = pd.read_csv('../data/paper_data/train.csv', sep = '\\t',header=None, names=[\"Word\", \"Pos\", \"Chunk\", \"Tag\"])"
   ]
  },
  {
   "cell_type": "markdown",
   "id": "b4efafb2",
   "metadata": {},
   "source": [
    "> First 5 lines"
   ]
  },
  {
   "cell_type": "code",
   "execution_count": 34,
   "id": "cd11a16a-b66e-4b81-b5fe-d2561a8dcbb0",
   "metadata": {
    "colab": {
     "base_uri": "https://localhost:8080/"
    },
    "id": "cd11a16a-b66e-4b81-b5fe-d2561a8dcbb0",
    "outputId": "f10232cd-83a0-41df-e786-8d791f777ce1"
   },
   "outputs": [
    {
     "name": "stdout",
     "output_type": "stream",
     "text": [
      "     Word Pos Chunk Tag\n",
      "0     Mâu   _     _   O\n",
      "1   thuẫn   _     _   O\n",
      "2    tình   _     _   O\n",
      "3     cảm   _     _   O\n",
      "4       ,   _     _   O\n",
      "5   thanh   _     _   O\n",
      "6    niên   _     _   O\n",
      "7     tạt   _     _   O\n",
      "8    xăng   _     _   O\n",
      "9     đốt   _     _   O\n",
      "10    cửa   _     _   O\n",
      "11   hàng   _     _   O\n",
      "12    bạn   _     _   O\n",
      "13    gái   _     _   O\n",
      "14    Xảy   _     _   O\n",
      "15     ra   _     _   O\n",
      "16    cãi   _     _   O\n",
      "17     vã   _     _   O\n",
      "18      ,   _     _   O\n",
      "19  trong   _     _   O\n"
     ]
    }
   ],
   "source": [
    "print(df.head(20))"
   ]
  },
  {
   "cell_type": "code",
   "execution_count": 35,
   "id": "32fb9a7b-2733-4ce2-b273-3e8c3b7b1e75",
   "metadata": {
    "colab": {
     "base_uri": "https://localhost:8080/",
     "height": 673
    },
    "id": "32fb9a7b-2733-4ce2-b273-3e8c3b7b1e75",
    "outputId": "70a15c76-171a-4f5e-8c2b-583fa578e468"
   },
   "outputs": [
    {
     "data": {
      "text/html": [
       "<div>\n",
       "<style scoped>\n",
       "    .dataframe tbody tr th:only-of-type {\n",
       "        vertical-align: middle;\n",
       "    }\n",
       "\n",
       "    .dataframe tbody tr th {\n",
       "        vertical-align: top;\n",
       "    }\n",
       "\n",
       "    .dataframe thead th {\n",
       "        text-align: right;\n",
       "    }\n",
       "</style>\n",
       "<table border=\"1\" class=\"dataframe\">\n",
       "  <thead>\n",
       "    <tr style=\"text-align: right;\">\n",
       "      <th></th>\n",
       "      <th>Word</th>\n",
       "      <th>Pos</th>\n",
       "      <th>Chunk</th>\n",
       "      <th>Tag</th>\n",
       "    </tr>\n",
       "  </thead>\n",
       "  <tbody>\n",
       "    <tr>\n",
       "      <th>0</th>\n",
       "      <td>Mâu</td>\n",
       "      <td>_</td>\n",
       "      <td>_</td>\n",
       "      <td>O</td>\n",
       "    </tr>\n",
       "    <tr>\n",
       "      <th>1</th>\n",
       "      <td>thuẫn</td>\n",
       "      <td>_</td>\n",
       "      <td>_</td>\n",
       "      <td>O</td>\n",
       "    </tr>\n",
       "    <tr>\n",
       "      <th>2</th>\n",
       "      <td>tình</td>\n",
       "      <td>_</td>\n",
       "      <td>_</td>\n",
       "      <td>O</td>\n",
       "    </tr>\n",
       "    <tr>\n",
       "      <th>3</th>\n",
       "      <td>cảm</td>\n",
       "      <td>_</td>\n",
       "      <td>_</td>\n",
       "      <td>O</td>\n",
       "    </tr>\n",
       "    <tr>\n",
       "      <th>4</th>\n",
       "      <td>,</td>\n",
       "      <td>_</td>\n",
       "      <td>_</td>\n",
       "      <td>O</td>\n",
       "    </tr>\n",
       "    <tr>\n",
       "      <th>...</th>\n",
       "      <td>...</td>\n",
       "      <td>...</td>\n",
       "      <td>...</td>\n",
       "      <td>...</td>\n",
       "    </tr>\n",
       "    <tr>\n",
       "      <th>479248</th>\n",
       "      <td>Cao</td>\n",
       "      <td>_</td>\n",
       "      <td>_</td>\n",
       "      <td>B-PERSON</td>\n",
       "    </tr>\n",
       "    <tr>\n",
       "      <th>479249</th>\n",
       "      <td>Lực</td>\n",
       "      <td>_</td>\n",
       "      <td>_</td>\n",
       "      <td>I-PERSON</td>\n",
       "    </tr>\n",
       "    <tr>\n",
       "      <th>479250</th>\n",
       "      <td>(</td>\n",
       "      <td>_</td>\n",
       "      <td>_</td>\n",
       "      <td>O</td>\n",
       "    </tr>\n",
       "    <tr>\n",
       "      <th>479251</th>\n",
       "      <td>Theo</td>\n",
       "      <td>_</td>\n",
       "      <td>_</td>\n",
       "      <td>O</td>\n",
       "    </tr>\n",
       "    <tr>\n",
       "      <th>479252</th>\n",
       "      <td>NDTV</td>\n",
       "      <td>_</td>\n",
       "      <td>_</td>\n",
       "      <td>B-ORGANIZATION</td>\n",
       "    </tr>\n",
       "  </tbody>\n",
       "</table>\n",
       "<p>479253 rows × 4 columns</p>\n",
       "</div>"
      ],
      "text/plain": [
       "         Word Pos Chunk             Tag\n",
       "0         Mâu   _     _               O\n",
       "1       thuẫn   _     _               O\n",
       "2        tình   _     _               O\n",
       "3         cảm   _     _               O\n",
       "4           ,   _     _               O\n",
       "...       ...  ..   ...             ...\n",
       "479248    Cao   _     _        B-PERSON\n",
       "479249    Lực   _     _        I-PERSON\n",
       "479250      (   _     _               O\n",
       "479251   Theo   _     _               O\n",
       "479252   NDTV   _     _  B-ORGANIZATION\n",
       "\n",
       "[479253 rows x 4 columns]"
      ]
     },
     "execution_count": 35,
     "metadata": {},
     "output_type": "execute_result"
    }
   ],
   "source": [
    "df['Word'] = df['Word'].astype(str)\n",
    "df"
   ]
  },
  {
   "cell_type": "markdown",
   "id": "cf049e3d",
   "metadata": {},
   "source": [
    "> Identify a sentence"
   ]
  },
  {
   "cell_type": "code",
   "execution_count": 36,
   "id": "5727e6ce-c1da-4913-a1a8-55ea69d6f539",
   "metadata": {
    "id": "5727e6ce-c1da-4913-a1a8-55ea69d6f539",
    "tags": []
   },
   "outputs": [],
   "source": [
    "sentence_list = []\n",
    "index = 2\n",
    "sentence_list.insert(0, \"Sentence 1\")\n",
    "for i in range(1, len(df['Word'])+1):\n",
    "    if df['Word'][i-1] == \".\":\n",
    "        sentence_list.append(\"Sentence \" + str(index))\n",
    "        index = index + 1\n",
    "    else:\n",
    "        sentence_list.append(\" \")\n",
    "\n",
    "sentence_list[0] = \"Sentence 1\"\n"
   ]
  },
  {
   "cell_type": "code",
   "execution_count": 37,
   "id": "49a72e71-d2a1-4ac2-8494-1c2fc5634e2a",
   "metadata": {
    "colab": {
     "base_uri": "https://localhost:8080/",
     "height": 673
    },
    "id": "49a72e71-d2a1-4ac2-8494-1c2fc5634e2a",
    "outputId": "a4433833-b7e1-491f-8309-083008d832b0"
   },
   "outputs": [],
   "source": [
    "df['Sentence'] = pd.Series(sentence_list)\n"
   ]
  },
  {
   "cell_type": "code",
   "execution_count": 38,
   "id": "7a490280-28c1-48d7-9300-ce6af915531b",
   "metadata": {
    "id": "7a490280-28c1-48d7-9300-ce6af915531b"
   },
   "outputs": [],
   "source": [
    "df['Sentence'] = df['Sentence'].replace(' ', np.nan).ffill()"
   ]
  },
  {
   "cell_type": "code",
   "execution_count": 39,
   "id": "5ab822ed-cde0-4cea-8ef3-bd19a2f89f70",
   "metadata": {
    "colab": {
     "base_uri": "https://localhost:8080/"
    },
    "id": "5ab822ed-cde0-4cea-8ef3-bd19a2f89f70",
    "outputId": "311fd7b9-d427-46ee-f5ea-02e2f68861ad"
   },
   "outputs": [
    {
     "name": "stdout",
     "output_type": "stream",
     "text": [
      "         Word Pos Chunk             Tag    Sentence\n",
      "0         Mâu   _     _               O  Sentence 1\n",
      "1       thuẫn   _     _               O  Sentence 1\n",
      "2        tình   _     _               O  Sentence 1\n",
      "3         cảm   _     _               O  Sentence 1\n",
      "4           ,   _     _               O  Sentence 1\n",
      "5       thanh   _     _               O  Sentence 1\n",
      "6        niên   _     _               O  Sentence 1\n",
      "7         tạt   _     _               O  Sentence 1\n",
      "8        xăng   _     _               O  Sentence 1\n",
      "9         đốt   _     _               O  Sentence 1\n",
      "10        cửa   _     _               O  Sentence 1\n",
      "11       hàng   _     _               O  Sentence 1\n",
      "12        bạn   _     _               O  Sentence 1\n",
      "13        gái   _     _               O  Sentence 1\n",
      "14        Xảy   _     _               O  Sentence 1\n",
      "15         ra   _     _               O  Sentence 1\n",
      "16        cãi   _     _               O  Sentence 1\n",
      "17         vã   _     _               O  Sentence 1\n",
      "18          ,   _     _               O  Sentence 1\n",
      "19      trong   _     _               O  Sentence 1\n",
      "20        lúc   _     _               O  Sentence 1\n",
      "21        bực   _     _               O  Sentence 1\n",
      "22        tức   _     _               O  Sentence 1\n",
      "23          ,   _     _               O  Sentence 1\n",
      "24     Nguyên   _     _        B-PERSON  Sentence 1\n",
      "25        tạt   _     _               O  Sentence 1\n",
      "26       xăng   _     _               O  Sentence 1\n",
      "27        vào   _     _               O  Sentence 1\n",
      "28        cửa   _     _               O  Sentence 1\n",
      "29       hàng   _     _               O  Sentence 1\n",
      "30        rồi   _     _               O  Sentence 1\n",
      "31       kinh   _     _               O  Sentence 1\n",
      "32      doanh   _     _               O  Sentence 1\n",
      "33        của   _     _               O  Sentence 1\n",
      "34        bạn   _     _               O  Sentence 1\n",
      "35        gái   _     _               O  Sentence 1\n",
      "36        rồi   _     _               O  Sentence 1\n",
      "37       châm   _     _               O  Sentence 1\n",
      "38        lửa   _     _               O  Sentence 1\n",
      "39        đốt   _     _               O  Sentence 1\n",
      "40          .   _     _               O  Sentence 1\n",
      "41       Theo   _     _               O  Sentence 2\n",
      "42        tin   _     _               O  Sentence 2\n",
      "43        tức   _     _               O  Sentence 2\n",
      "44       trên   _     _               O  Sentence 2\n",
      "45        báo   _     _               O  Sentence 2\n",
      "46  VnExpress   _     _  B-ORGANIZATION  Sentence 2\n",
      "47          ,   _     _               O  Sentence 2\n",
      "48       ngày   _     _               O  Sentence 2\n",
      "49       22/9   _     _      B-DATETIME  Sentence 2\n"
     ]
    }
   ],
   "source": [
    "print(df.head(50))"
   ]
  },
  {
   "cell_type": "code",
   "execution_count": 40,
   "id": "14671d0b-1189-4e2a-865a-9f0dc7e12f11",
   "metadata": {
    "colab": {
     "base_uri": "https://localhost:8080/",
     "height": 424
    },
    "id": "14671d0b-1189-4e2a-865a-9f0dc7e12f11",
    "outputId": "de13b18c-8cc8-41e5-d1b5-30768c79dd09"
   },
   "outputs": [
    {
     "data": {
      "text/html": [
       "<div>\n",
       "<style scoped>\n",
       "    .dataframe tbody tr th:only-of-type {\n",
       "        vertical-align: middle;\n",
       "    }\n",
       "\n",
       "    .dataframe tbody tr th {\n",
       "        vertical-align: top;\n",
       "    }\n",
       "\n",
       "    .dataframe thead th {\n",
       "        text-align: right;\n",
       "    }\n",
       "</style>\n",
       "<table border=\"1\" class=\"dataframe\">\n",
       "  <thead>\n",
       "    <tr style=\"text-align: right;\">\n",
       "      <th></th>\n",
       "      <th>Sentence</th>\n",
       "      <th>Word</th>\n",
       "      <th>Tag</th>\n",
       "    </tr>\n",
       "  </thead>\n",
       "  <tbody>\n",
       "    <tr>\n",
       "      <th>0</th>\n",
       "      <td>Sentence 1</td>\n",
       "      <td>Mâu</td>\n",
       "      <td>O</td>\n",
       "    </tr>\n",
       "    <tr>\n",
       "      <th>1</th>\n",
       "      <td>Sentence 1</td>\n",
       "      <td>thuẫn</td>\n",
       "      <td>O</td>\n",
       "    </tr>\n",
       "    <tr>\n",
       "      <th>2</th>\n",
       "      <td>Sentence 1</td>\n",
       "      <td>tình</td>\n",
       "      <td>O</td>\n",
       "    </tr>\n",
       "    <tr>\n",
       "      <th>3</th>\n",
       "      <td>Sentence 1</td>\n",
       "      <td>cảm</td>\n",
       "      <td>O</td>\n",
       "    </tr>\n",
       "    <tr>\n",
       "      <th>4</th>\n",
       "      <td>Sentence 1</td>\n",
       "      <td>,</td>\n",
       "      <td>O</td>\n",
       "    </tr>\n",
       "    <tr>\n",
       "      <th>...</th>\n",
       "      <td>...</td>\n",
       "      <td>...</td>\n",
       "      <td>...</td>\n",
       "    </tr>\n",
       "    <tr>\n",
       "      <th>479248</th>\n",
       "      <td>Sentence 13014</td>\n",
       "      <td>Cao</td>\n",
       "      <td>B-PERSON</td>\n",
       "    </tr>\n",
       "    <tr>\n",
       "      <th>479249</th>\n",
       "      <td>Sentence 13014</td>\n",
       "      <td>Lực</td>\n",
       "      <td>I-PERSON</td>\n",
       "    </tr>\n",
       "    <tr>\n",
       "      <th>479250</th>\n",
       "      <td>Sentence 13014</td>\n",
       "      <td>(</td>\n",
       "      <td>O</td>\n",
       "    </tr>\n",
       "    <tr>\n",
       "      <th>479251</th>\n",
       "      <td>Sentence 13014</td>\n",
       "      <td>Theo</td>\n",
       "      <td>O</td>\n",
       "    </tr>\n",
       "    <tr>\n",
       "      <th>479252</th>\n",
       "      <td>Sentence 13014</td>\n",
       "      <td>NDTV</td>\n",
       "      <td>B-ORGANIZATION</td>\n",
       "    </tr>\n",
       "  </tbody>\n",
       "</table>\n",
       "<p>479253 rows × 3 columns</p>\n",
       "</div>"
      ],
      "text/plain": [
       "              Sentence   Word             Tag\n",
       "0           Sentence 1    Mâu               O\n",
       "1           Sentence 1  thuẫn               O\n",
       "2           Sentence 1   tình               O\n",
       "3           Sentence 1    cảm               O\n",
       "4           Sentence 1      ,               O\n",
       "...                ...    ...             ...\n",
       "479248  Sentence 13014    Cao        B-PERSON\n",
       "479249  Sentence 13014    Lực        I-PERSON\n",
       "479250  Sentence 13014      (               O\n",
       "479251  Sentence 13014   Theo               O\n",
       "479252  Sentence 13014   NDTV  B-ORGANIZATION\n",
       "\n",
       "[479253 rows x 3 columns]"
      ]
     },
     "execution_count": 40,
     "metadata": {},
     "output_type": "execute_result"
    }
   ],
   "source": [
    "df1 = df[['Sentence', 'Word', 'Tag']]\n",
    "df1"
   ]
  },
  {
   "cell_type": "markdown",
   "id": "qAX75tF_qE2b",
   "metadata": {
    "id": "qAX75tF_qE2b"
   },
   "source": [
    "> Count tag"
   ]
  },
  {
   "cell_type": "code",
   "execution_count": 41,
   "id": "530d55aa-25af-4828-90c5-344b4ab313de",
   "metadata": {
    "id": "530d55aa-25af-4828-90c5-344b4ab313de",
    "outputId": "90393d47-bc90-46ca-d9f7-36025df4d5bd"
   },
   "outputs": [
    {
     "name": "stdout",
     "output_type": "stream",
     "text": [
      "List of tags: I-DATETIME-SET, B-ORGANIZATION, I-DATETIME-DATE, B-DATETIME-SET, B-LOCATION-STRUC, B-DATETIME-DATERANGE, I-LOCATION-GPE, I-LOCATION-STRUC, B-ORGANIZATION-SPORTS, I-ORGANIZATION, I-LOCATION, I-DATETIME-DURATION, I-DATETIME-TIME, I-ORGANIZATION-MED, I-DATETIME-DATERANGE, I-DATETIME, I-LOCATION-GEO, I-ORGANIZATION-STOCK, B-LOCATION-GPE, B-ORGANIZATION-MED, B-DATETIME-TIME, B-ORGANIZATION-STOCK, B-LOCATION, I-ORGANIZATION-SPORTS, I-DATETIME-TIMERANGE, B-DATETIME-TIMERANGE, B-PERSON, O, I-PERSON, B-DATETIME-DURATION, B-LOCATION-GEO, B-DATETIME, B-DATETIME-DATE\n",
      "Total Number of tags 33\n"
     ]
    }
   ],
   "source": [
    "list_tags = list(set(df1[\"Tag\"].values))\n",
    "len_tags = len(list_tags)\n",
    "print(\"List of tags: \" + ', '.join([tag for tag in list_tags]))\n",
    "print(f\"Total Number of tags {len_tags}\")"
   ]
  },
  {
   "cell_type": "markdown",
   "id": "7l7NRYXps5bl",
   "metadata": {
    "id": "7l7NRYXps5bl"
   },
   "source": [
    "# Encoding Data"
   ]
  },
  {
   "cell_type": "code",
   "execution_count": 42,
   "id": "1b4f6ed7-6a4e-4966-9d73-30757efc6b21",
   "metadata": {
    "id": "1b4f6ed7-6a4e-4966-9d73-30757efc6b21"
   },
   "outputs": [],
   "source": [
    "class getsentence(object):\n",
    "    def __init__(self, data):\n",
    "        self.n_sent = 1.0\n",
    "        self.data = data\n",
    "        self.empty = False\n",
    "        agg_func = lambda s: [(w, t) for w, t in zip(s[\"Word\"].values.tolist(),\n",
    "                                                     s[\"Tag\"].values.tolist())]\n",
    "        self.grouped = self.data.groupby(\"Sentence\").apply(agg_func)\n",
    "        self.sentences = [s for s in self.grouped]"
   ]
  },
  {
   "cell_type": "code",
   "execution_count": 43,
   "id": "65f351b9-eebc-4964-b589-c15391f811bd",
   "metadata": {
    "id": "65f351b9-eebc-4964-b589-c15391f811bd"
   },
   "outputs": [
    {
     "name": "stderr",
     "output_type": "stream",
     "text": [
      "C:\\Users\\hdang\\AppData\\Local\\Temp\\ipykernel_3260\\1803136665.py:8: DeprecationWarning: DataFrameGroupBy.apply operated on the grouping columns. This behavior is deprecated, and in a future version of pandas the grouping columns will be excluded from the operation. Either pass `include_groups=False` to exclude the groupings or explicitly select the grouping columns after groupby to silence this warning.\n",
      "  self.grouped = self.data.groupby(\"Sentence\").apply(agg_func)\n"
     ]
    }
   ],
   "source": [
    "getter = getsentence(df1)"
   ]
  },
  {
   "cell_type": "code",
   "execution_count": 44,
   "id": "30637a63-6dfe-4dca-b688-67753099cff2",
   "metadata": {
    "colab": {
     "base_uri": "https://localhost:8080/"
    },
    "id": "30637a63-6dfe-4dca-b688-67753099cff2",
    "outputId": "690aec18-9cd8-46a6-a5be-42de0dae118d"
   },
   "outputs": [
    {
     "name": "stdout",
     "output_type": "stream",
     "text": [
      "[('Nhiều', 'O'), ('người', 'O'), ('đồn', 'O'), ('đoán', 'O'), (',', 'O'), ('bầu', 'O'), ('Đức', 'B-PERSON'), ('sang', 'O'), ('Thái', 'B-LOCATION-GPE'), ('Lan', 'I-LOCATION-GPE'), ('để', 'O'), ('gặp', 'O'), ('gỡ', 'O'), ('Kiatisak', 'B-PERSON'), ('Mặc', 'O'), ('dù', 'O'), ('vậy', 'O'), (',', 'O'), ('người', 'O'), ('đứng', 'O'), ('đầu', 'O'), ('HAGL', 'B-ORGANIZATION-SPORTS'), ('khẳng', 'O'), ('định', 'O'), ('ông', 'O'), ('chưa', 'O'), ('có', 'O'), ('ý', 'O'), ('định', 'O'), ('mời', 'O'), ('Kiatisak', 'B-PERSON'), ('sang', 'O'), ('Việt', 'B-LOCATION-GPE'), ('Nam', 'I-LOCATION-GPE'), ('làm', 'O'), ('việc', 'O'), ('.', 'O')]\n"
     ]
    }
   ],
   "source": [
    "sentences = getter.sentences\n",
    "#ths is how a sentence will look like.\n",
    "print(sentences[10])"
   ]
  },
  {
   "cell_type": "code",
   "execution_count": 45,
   "id": "cddd144b-467d-41ac-8160-7dfbcd7039eb",
   "metadata": {
    "id": "cddd144b-467d-41ac-8160-7dfbcd7039eb"
   },
   "outputs": [],
   "source": [
    "batch_size = 64\n",
    "epochs = 50\n",
    "max_len = 75\n",
    "embedding = 40\n",
    "hidden_size = 50"
   ]
  },
  {
   "cell_type": "code",
   "execution_count": 46,
   "id": "af167ef7-b58a-41e2-afcd-6e91b5d24594",
   "metadata": {
    "id": "af167ef7-b58a-41e2-afcd-6e91b5d24594"
   },
   "outputs": [],
   "source": [
    "# Xây dựng vocab cho word và tag\n",
    "words = list(df1['Word'].unique())\n",
    "tags = list(df1['Tag'].unique())\n",
    "\n",
    "# Tạo dict word to index, thêm 2 từ đặc biệt là Unknown và Padding\n",
    "word2idx = {w : i + 2 for i, w in enumerate(words)}\n",
    "word2idx[\"UNK\"] = 1\n",
    "word2idx[\"PAD\"] = 0\n",
    "\n",
    "# Tạo dict tag to index, thêm 1 tag đặc biệt và Padding\n",
    "tag2idx = {t : i + 1 for i, t in enumerate(tags)}\n",
    "tag2idx[\"PAD\"] = 0\n",
    "\n",
    "# Tạo 2 dict index to word và index to tag\n",
    "idx2word = {i: w for w, i in word2idx.items()}\n",
    "idx2tag = {i: w for w, i in tag2idx.items()}"
   ]
  },
  {
   "cell_type": "code",
   "execution_count": 47,
   "id": "4f6178b9-5cbc-4f3d-8fd3-f77f0013faff",
   "metadata": {
    "id": "4f6178b9-5cbc-4f3d-8fd3-f77f0013faff"
   },
   "outputs": [],
   "source": [
    "# Chuyển các câu về dạng vector of index\n",
    "X = [[word2idx[w[0]] for w in s] for s in sentences]\n",
    "# Padding các câu về max_len\n",
    "X = pad_sequences(maxlen = max_len, sequences = X, padding = \"post\", value = word2idx[\"PAD\"])\n",
    "# Chuyển các tag về dạng index\n",
    "y = [[tag2idx[w[1]] for w in s] for s in sentences]\n",
    "# Tiền hành padding về max_len\n",
    "y = pad_sequences(maxlen = max_len, sequences = y, padding = \"post\", value = tag2idx[\"PAD\"])"
   ]
  },
  {
   "cell_type": "code",
   "execution_count": 48,
   "id": "fd055735-0927-4386-984e-d9c06d6bb0f9",
   "metadata": {
    "id": "fd055735-0927-4386-984e-d9c06d6bb0f9"
   },
   "outputs": [],
   "source": [
    "#from keras.utils.np_utils import to_categorical\n",
    "num_tag = df['Tag'].nunique()\n",
    "y = [to_categorical(i, num_classes = num_tag + 1) for i in y]"
   ]
  },
  {
   "cell_type": "code",
   "execution_count": 49,
   "id": "7eab71fd-b13d-49d7-95dd-ca0299fff0a6",
   "metadata": {
    "id": "7eab71fd-b13d-49d7-95dd-ca0299fff0a6"
   },
   "outputs": [],
   "source": [
    "#from sklearn.model_selection import train_test_split\n",
    "X_train, X_test, y_train, y_test = train_test_split(X, y, test_size = 0.15)"
   ]
  },
  {
   "cell_type": "markdown",
   "id": "1EMBpCiMudLD",
   "metadata": {
    "id": "1EMBpCiMudLD"
   },
   "source": [
    "# Build and Train Model - BiLSTM"
   ]
  },
  {
   "cell_type": "code",
   "execution_count": 50,
   "id": "2d34535c-75bc-4b16-9d82-b7c1e6839a58",
   "metadata": {
    "colab": {
     "base_uri": "https://localhost:8080/"
    },
    "id": "2d34535c-75bc-4b16-9d82-b7c1e6839a58",
    "outputId": "9749dafb-8cf9-4349-818c-8775b05a8212"
   },
   "outputs": [
    {
     "name": "stderr",
     "output_type": "stream",
     "text": [
      "c:\\Users\\hdang\\.virtualenvs\\DM-xmUrTfoX\\Lib\\site-packages\\keras\\src\\layers\\core\\embedding.py:86: UserWarning: Argument `input_length` is deprecated. Just remove it.\n",
      "  warnings.warn(\n"
     ]
    },
    {
     "data": {
      "text/html": [
       "<pre style=\"white-space:pre;overflow-x:auto;line-height:normal;font-family:Menlo,'DejaVu Sans Mono',consolas,'Courier New',monospace\"><span style=\"font-weight: bold\">Model: \"functional_3\"</span>\n",
       "</pre>\n"
      ],
      "text/plain": [
       "\u001b[1mModel: \"functional_3\"\u001b[0m\n"
      ]
     },
     "metadata": {},
     "output_type": "display_data"
    },
    {
     "data": {
      "text/html": [
       "<pre style=\"white-space:pre;overflow-x:auto;line-height:normal;font-family:Menlo,'DejaVu Sans Mono',consolas,'Courier New',monospace\">┏━━━━━━━━━━━━━━━━━━━━━━━━━━━━━━━━━┳━━━━━━━━━━━━━━━━━━━━━━━━┳━━━━━━━━━━━━━━━┓\n",
       "┃<span style=\"font-weight: bold\"> Layer (type)                    </span>┃<span style=\"font-weight: bold\"> Output Shape           </span>┃<span style=\"font-weight: bold\">       Param # </span>┃\n",
       "┡━━━━━━━━━━━━━━━━━━━━━━━━━━━━━━━━━╇━━━━━━━━━━━━━━━━━━━━━━━━╇━━━━━━━━━━━━━━━┩\n",
       "│ input_layer_1 (<span style=\"color: #0087ff; text-decoration-color: #0087ff\">InputLayer</span>)      │ (<span style=\"color: #00d7ff; text-decoration-color: #00d7ff\">None</span>, <span style=\"color: #00af00; text-decoration-color: #00af00\">75</span>)             │             <span style=\"color: #00af00; text-decoration-color: #00af00\">0</span> │\n",
       "├─────────────────────────────────┼────────────────────────┼───────────────┤\n",
       "│ embedding_1 (<span style=\"color: #0087ff; text-decoration-color: #0087ff\">Embedding</span>)         │ (<span style=\"color: #00d7ff; text-decoration-color: #00d7ff\">None</span>, <span style=\"color: #00af00; text-decoration-color: #00af00\">75</span>, <span style=\"color: #00af00; text-decoration-color: #00af00\">75</span>)         │       <span style=\"color: #00af00; text-decoration-color: #00af00\">953,850</span> │\n",
       "├─────────────────────────────────┼────────────────────────┼───────────────┤\n",
       "│ spatial_dropout1d_1             │ (<span style=\"color: #00d7ff; text-decoration-color: #00d7ff\">None</span>, <span style=\"color: #00af00; text-decoration-color: #00af00\">75</span>, <span style=\"color: #00af00; text-decoration-color: #00af00\">75</span>)         │             <span style=\"color: #00af00; text-decoration-color: #00af00\">0</span> │\n",
       "│ (<span style=\"color: #0087ff; text-decoration-color: #0087ff\">SpatialDropout1D</span>)              │                        │               │\n",
       "├─────────────────────────────────┼────────────────────────┼───────────────┤\n",
       "│ bidirectional_1 (<span style=\"color: #0087ff; text-decoration-color: #0087ff\">Bidirectional</span>) │ (<span style=\"color: #00d7ff; text-decoration-color: #00d7ff\">None</span>, <span style=\"color: #00af00; text-decoration-color: #00af00\">75</span>, <span style=\"color: #00af00; text-decoration-color: #00af00\">200</span>)        │       <span style=\"color: #00af00; text-decoration-color: #00af00\">140,800</span> │\n",
       "├─────────────────────────────────┼────────────────────────┼───────────────┤\n",
       "│ time_distributed_1              │ (<span style=\"color: #00d7ff; text-decoration-color: #00d7ff\">None</span>, <span style=\"color: #00af00; text-decoration-color: #00af00\">75</span>, <span style=\"color: #00af00; text-decoration-color: #00af00\">34</span>)         │         <span style=\"color: #00af00; text-decoration-color: #00af00\">6,834</span> │\n",
       "│ (<span style=\"color: #0087ff; text-decoration-color: #0087ff\">TimeDistributed</span>)               │                        │               │\n",
       "└─────────────────────────────────┴────────────────────────┴───────────────┘\n",
       "</pre>\n"
      ],
      "text/plain": [
       "┏━━━━━━━━━━━━━━━━━━━━━━━━━━━━━━━━━┳━━━━━━━━━━━━━━━━━━━━━━━━┳━━━━━━━━━━━━━━━┓\n",
       "┃\u001b[1m \u001b[0m\u001b[1mLayer (type)                   \u001b[0m\u001b[1m \u001b[0m┃\u001b[1m \u001b[0m\u001b[1mOutput Shape          \u001b[0m\u001b[1m \u001b[0m┃\u001b[1m \u001b[0m\u001b[1m      Param #\u001b[0m\u001b[1m \u001b[0m┃\n",
       "┡━━━━━━━━━━━━━━━━━━━━━━━━━━━━━━━━━╇━━━━━━━━━━━━━━━━━━━━━━━━╇━━━━━━━━━━━━━━━┩\n",
       "│ input_layer_1 (\u001b[38;5;33mInputLayer\u001b[0m)      │ (\u001b[38;5;45mNone\u001b[0m, \u001b[38;5;34m75\u001b[0m)             │             \u001b[38;5;34m0\u001b[0m │\n",
       "├─────────────────────────────────┼────────────────────────┼───────────────┤\n",
       "│ embedding_1 (\u001b[38;5;33mEmbedding\u001b[0m)         │ (\u001b[38;5;45mNone\u001b[0m, \u001b[38;5;34m75\u001b[0m, \u001b[38;5;34m75\u001b[0m)         │       \u001b[38;5;34m953,850\u001b[0m │\n",
       "├─────────────────────────────────┼────────────────────────┼───────────────┤\n",
       "│ spatial_dropout1d_1             │ (\u001b[38;5;45mNone\u001b[0m, \u001b[38;5;34m75\u001b[0m, \u001b[38;5;34m75\u001b[0m)         │             \u001b[38;5;34m0\u001b[0m │\n",
       "│ (\u001b[38;5;33mSpatialDropout1D\u001b[0m)              │                        │               │\n",
       "├─────────────────────────────────┼────────────────────────┼───────────────┤\n",
       "│ bidirectional_1 (\u001b[38;5;33mBidirectional\u001b[0m) │ (\u001b[38;5;45mNone\u001b[0m, \u001b[38;5;34m75\u001b[0m, \u001b[38;5;34m200\u001b[0m)        │       \u001b[38;5;34m140,800\u001b[0m │\n",
       "├─────────────────────────────────┼────────────────────────┼───────────────┤\n",
       "│ time_distributed_1              │ (\u001b[38;5;45mNone\u001b[0m, \u001b[38;5;34m75\u001b[0m, \u001b[38;5;34m34\u001b[0m)         │         \u001b[38;5;34m6,834\u001b[0m │\n",
       "│ (\u001b[38;5;33mTimeDistributed\u001b[0m)               │                        │               │\n",
       "└─────────────────────────────────┴────────────────────────┴───────────────┘\n"
      ]
     },
     "metadata": {},
     "output_type": "display_data"
    },
    {
     "data": {
      "text/html": [
       "<pre style=\"white-space:pre;overflow-x:auto;line-height:normal;font-family:Menlo,'DejaVu Sans Mono',consolas,'Courier New',monospace\"><span style=\"font-weight: bold\"> Total params: </span><span style=\"color: #00af00; text-decoration-color: #00af00\">1,101,484</span> (4.20 MB)\n",
       "</pre>\n"
      ],
      "text/plain": [
       "\u001b[1m Total params: \u001b[0m\u001b[38;5;34m1,101,484\u001b[0m (4.20 MB)\n"
      ]
     },
     "metadata": {},
     "output_type": "display_data"
    },
    {
     "data": {
      "text/html": [
       "<pre style=\"white-space:pre;overflow-x:auto;line-height:normal;font-family:Menlo,'DejaVu Sans Mono',consolas,'Courier New',monospace\"><span style=\"font-weight: bold\"> Trainable params: </span><span style=\"color: #00af00; text-decoration-color: #00af00\">1,101,484</span> (4.20 MB)\n",
       "</pre>\n"
      ],
      "text/plain": [
       "\u001b[1m Trainable params: \u001b[0m\u001b[38;5;34m1,101,484\u001b[0m (4.20 MB)\n"
      ]
     },
     "metadata": {},
     "output_type": "display_data"
    },
    {
     "data": {
      "text/html": [
       "<pre style=\"white-space:pre;overflow-x:auto;line-height:normal;font-family:Menlo,'DejaVu Sans Mono',consolas,'Courier New',monospace\"><span style=\"font-weight: bold\"> Non-trainable params: </span><span style=\"color: #00af00; text-decoration-color: #00af00\">0</span> (0.00 B)\n",
       "</pre>\n"
      ],
      "text/plain": [
       "\u001b[1m Non-trainable params: \u001b[0m\u001b[38;5;34m0\u001b[0m (0.00 B)\n"
      ]
     },
     "metadata": {},
     "output_type": "display_data"
    }
   ],
   "source": [
    "input_word = Input(shape = (max_len,))\n",
    "model = Embedding(input_dim = len(words)+2, output_dim = max_len, input_length = max_len)(input_word)\n",
    "model = SpatialDropout1D(0.1)(model)\n",
    "model = Bidirectional(LSTM(units = 100,return_sequences = True, recurrent_dropout = 0.1))(model)\n",
    "out = TimeDistributed(Dense(num_tag+1,activation = 'softmax'))(model)\n",
    "model = Model(input_word,out)\n",
    "\n",
    "model.compile(optimizer = 'adam',loss = 'categorical_crossentropy',metrics = ['accuracy'])\n",
    "model.summary()"
   ]
  },
  {
   "cell_type": "code",
   "execution_count": 51,
   "id": "9cf102a1-49c9-4e81-958f-3803c319d106",
   "metadata": {
    "colab": {
     "base_uri": "https://localhost:8080/"
    },
    "id": "9cf102a1-49c9-4e81-958f-3803c319d106",
    "outputId": "fb90f437-0260-4c6b-c357-e42707f87bc4"
   },
   "outputs": [
    {
     "name": "stdout",
     "output_type": "stream",
     "text": [
      "Epoch 1/150\n",
      "\u001b[1m139/139\u001b[0m \u001b[32m━━━━━━━━━━━━━━━━━━━━\u001b[0m\u001b[37m\u001b[0m \u001b[1m29s\u001b[0m 135ms/step - accuracy: 0.8060 - loss: 0.9996 - val_accuracy: 0.9512 - val_loss: 0.2412\n",
      "Epoch 2/150\n",
      "\u001b[1m139/139\u001b[0m \u001b[32m━━━━━━━━━━━━━━━━━━━━\u001b[0m\u001b[37m\u001b[0m \u001b[1m18s\u001b[0m 132ms/step - accuracy: 0.9554 - loss: 0.2047 - val_accuracy: 0.9555 - val_loss: 0.1751\n",
      "Epoch 3/150\n",
      "\u001b[1m139/139\u001b[0m \u001b[32m━━━━━━━━━━━━━━━━━━━━\u001b[0m\u001b[37m\u001b[0m \u001b[1m19s\u001b[0m 138ms/step - accuracy: 0.9613 - loss: 0.1488 - val_accuracy: 0.9645 - val_loss: 0.1419\n",
      "Epoch 4/150\n",
      "\u001b[1m139/139\u001b[0m \u001b[32m━━━━━━━━━━━━━━━━━━━━\u001b[0m\u001b[37m\u001b[0m \u001b[1m18s\u001b[0m 130ms/step - accuracy: 0.9695 - loss: 0.1152 - val_accuracy: 0.9691 - val_loss: 0.1203\n",
      "Epoch 5/150\n",
      "\u001b[1m139/139\u001b[0m \u001b[32m━━━━━━━━━━━━━━━━━━━━\u001b[0m\u001b[37m\u001b[0m \u001b[1m20s\u001b[0m 144ms/step - accuracy: 0.9740 - loss: 0.0962 - val_accuracy: 0.9728 - val_loss: 0.1057\n",
      "Epoch 6/150\n",
      "\u001b[1m139/139\u001b[0m \u001b[32m━━━━━━━━━━━━━━━━━━━━\u001b[0m\u001b[37m\u001b[0m \u001b[1m22s\u001b[0m 162ms/step - accuracy: 0.9780 - loss: 0.0771 - val_accuracy: 0.9741 - val_loss: 0.0972\n",
      "Epoch 7/150\n",
      "\u001b[1m139/139\u001b[0m \u001b[32m━━━━━━━━━━━━━━━━━━━━\u001b[0m\u001b[37m\u001b[0m \u001b[1m21s\u001b[0m 153ms/step - accuracy: 0.9802 - loss: 0.0675 - val_accuracy: 0.9751 - val_loss: 0.0933\n",
      "Epoch 8/150\n",
      "\u001b[1m139/139\u001b[0m \u001b[32m━━━━━━━━━━━━━━━━━━━━\u001b[0m\u001b[37m\u001b[0m \u001b[1m21s\u001b[0m 149ms/step - accuracy: 0.9809 - loss: 0.0626 - val_accuracy: 0.9762 - val_loss: 0.0875\n",
      "Epoch 9/150\n",
      "\u001b[1m139/139\u001b[0m \u001b[32m━━━━━━━━━━━━━━━━━━━━\u001b[0m\u001b[37m\u001b[0m \u001b[1m20s\u001b[0m 141ms/step - accuracy: 0.9828 - loss: 0.0565 - val_accuracy: 0.9769 - val_loss: 0.0868\n",
      "Epoch 10/150\n",
      "\u001b[1m139/139\u001b[0m \u001b[32m━━━━━━━━━━━━━━━━━━━━\u001b[0m\u001b[37m\u001b[0m \u001b[1m20s\u001b[0m 144ms/step - accuracy: 0.9835 - loss: 0.0516 - val_accuracy: 0.9768 - val_loss: 0.0840\n",
      "Epoch 11/150\n",
      "\u001b[1m139/139\u001b[0m \u001b[32m━━━━━━━━━━━━━━━━━━━━\u001b[0m\u001b[37m\u001b[0m \u001b[1m20s\u001b[0m 142ms/step - accuracy: 0.9843 - loss: 0.0498 - val_accuracy: 0.9770 - val_loss: 0.0869\n",
      "Epoch 12/150\n",
      "\u001b[1m139/139\u001b[0m \u001b[32m━━━━━━━━━━━━━━━━━━━━\u001b[0m\u001b[37m\u001b[0m \u001b[1m17s\u001b[0m 125ms/step - accuracy: 0.9862 - loss: 0.0434 - val_accuracy: 0.9772 - val_loss: 0.0833\n",
      "Epoch 13/150\n",
      "\u001b[1m139/139\u001b[0m \u001b[32m━━━━━━━━━━━━━━━━━━━━\u001b[0m\u001b[37m\u001b[0m \u001b[1m19s\u001b[0m 135ms/step - accuracy: 0.9867 - loss: 0.0411 - val_accuracy: 0.9782 - val_loss: 0.0838\n",
      "Epoch 14/150\n",
      "\u001b[1m139/139\u001b[0m \u001b[32m━━━━━━━━━━━━━━━━━━━━\u001b[0m\u001b[37m\u001b[0m \u001b[1m26s\u001b[0m 184ms/step - accuracy: 0.9882 - loss: 0.0375 - val_accuracy: 0.9781 - val_loss: 0.0857\n",
      "Epoch 15/150\n",
      "\u001b[1m139/139\u001b[0m \u001b[32m━━━━━━━━━━━━━━━━━━━━\u001b[0m\u001b[37m\u001b[0m \u001b[1m21s\u001b[0m 147ms/step - accuracy: 0.9885 - loss: 0.0360 - val_accuracy: 0.9782 - val_loss: 0.0853\n",
      "Epoch 16/150\n",
      "\u001b[1m139/139\u001b[0m \u001b[32m━━━━━━━━━━━━━━━━━━━━\u001b[0m\u001b[37m\u001b[0m \u001b[1m20s\u001b[0m 146ms/step - accuracy: 0.9898 - loss: 0.0320 - val_accuracy: 0.9780 - val_loss: 0.0858\n",
      "Epoch 17/150\n",
      "\u001b[1m139/139\u001b[0m \u001b[32m━━━━━━━━━━━━━━━━━━━━\u001b[0m\u001b[37m\u001b[0m \u001b[1m20s\u001b[0m 146ms/step - accuracy: 0.9901 - loss: 0.0305 - val_accuracy: 0.9783 - val_loss: 0.0871\n",
      "Epoch 18/150\n",
      "\u001b[1m139/139\u001b[0m \u001b[32m━━━━━━━━━━━━━━━━━━━━\u001b[0m\u001b[37m\u001b[0m \u001b[1m21s\u001b[0m 151ms/step - accuracy: 0.9910 - loss: 0.0285 - val_accuracy: 0.9785 - val_loss: 0.0880\n",
      "Epoch 19/150\n",
      "\u001b[1m139/139\u001b[0m \u001b[32m━━━━━━━━━━━━━━━━━━━━\u001b[0m\u001b[37m\u001b[0m \u001b[1m19s\u001b[0m 138ms/step - accuracy: 0.9917 - loss: 0.0262 - val_accuracy: 0.9783 - val_loss: 0.0911\n",
      "Epoch 20/150\n",
      "\u001b[1m139/139\u001b[0m \u001b[32m━━━━━━━━━━━━━━━━━━━━\u001b[0m\u001b[37m\u001b[0m \u001b[1m19s\u001b[0m 138ms/step - accuracy: 0.9918 - loss: 0.0257 - val_accuracy: 0.9783 - val_loss: 0.0905\n",
      "Epoch 21/150\n",
      "\u001b[1m139/139\u001b[0m \u001b[32m━━━━━━━━━━━━━━━━━━━━\u001b[0m\u001b[37m\u001b[0m \u001b[1m17s\u001b[0m 124ms/step - accuracy: 0.9926 - loss: 0.0233 - val_accuracy: 0.9785 - val_loss: 0.0902\n",
      "Epoch 22/150\n",
      "\u001b[1m139/139\u001b[0m \u001b[32m━━━━━━━━━━━━━━━━━━━━\u001b[0m\u001b[37m\u001b[0m \u001b[1m20s\u001b[0m 146ms/step - accuracy: 0.9930 - loss: 0.0219 - val_accuracy: 0.9788 - val_loss: 0.0913\n",
      "Epoch 23/150\n",
      "\u001b[1m139/139\u001b[0m \u001b[32m━━━━━━━━━━━━━━━━━━━━\u001b[0m\u001b[37m\u001b[0m \u001b[1m21s\u001b[0m 149ms/step - accuracy: 0.9936 - loss: 0.0211 - val_accuracy: 0.9789 - val_loss: 0.0938\n",
      "Epoch 24/150\n",
      "\u001b[1m139/139\u001b[0m \u001b[32m━━━━━━━━━━━━━━━━━━━━\u001b[0m\u001b[37m\u001b[0m \u001b[1m18s\u001b[0m 129ms/step - accuracy: 0.9941 - loss: 0.0187 - val_accuracy: 0.9786 - val_loss: 0.0943\n",
      "Epoch 25/150\n",
      "\u001b[1m139/139\u001b[0m \u001b[32m━━━━━━━━━━━━━━━━━━━━\u001b[0m\u001b[37m\u001b[0m \u001b[1m18s\u001b[0m 128ms/step - accuracy: 0.9939 - loss: 0.0191 - val_accuracy: 0.9787 - val_loss: 0.0987\n",
      "Epoch 26/150\n",
      "\u001b[1m139/139\u001b[0m \u001b[32m━━━━━━━━━━━━━━━━━━━━\u001b[0m\u001b[37m\u001b[0m \u001b[1m18s\u001b[0m 132ms/step - accuracy: 0.9947 - loss: 0.0169 - val_accuracy: 0.9787 - val_loss: 0.0982\n",
      "Epoch 27/150\n",
      "\u001b[1m139/139\u001b[0m \u001b[32m━━━━━━━━━━━━━━━━━━━━\u001b[0m\u001b[37m\u001b[0m \u001b[1m19s\u001b[0m 137ms/step - accuracy: 0.9949 - loss: 0.0162 - val_accuracy: 0.9787 - val_loss: 0.1020\n",
      "Epoch 28/150\n",
      "\u001b[1m139/139\u001b[0m \u001b[32m━━━━━━━━━━━━━━━━━━━━\u001b[0m\u001b[37m\u001b[0m \u001b[1m20s\u001b[0m 140ms/step - accuracy: 0.9952 - loss: 0.0149 - val_accuracy: 0.9788 - val_loss: 0.0986\n",
      "Epoch 29/150\n",
      "\u001b[1m139/139\u001b[0m \u001b[32m━━━━━━━━━━━━━━━━━━━━\u001b[0m\u001b[37m\u001b[0m \u001b[1m19s\u001b[0m 137ms/step - accuracy: 0.9957 - loss: 0.0141 - val_accuracy: 0.9785 - val_loss: 0.1026\n",
      "Epoch 30/150\n",
      "\u001b[1m139/139\u001b[0m \u001b[32m━━━━━━━━━━━━━━━━━━━━\u001b[0m\u001b[37m\u001b[0m \u001b[1m18s\u001b[0m 128ms/step - accuracy: 0.9959 - loss: 0.0131 - val_accuracy: 0.9788 - val_loss: 0.1038\n",
      "Epoch 31/150\n",
      "\u001b[1m139/139\u001b[0m \u001b[32m━━━━━━━━━━━━━━━━━━━━\u001b[0m\u001b[37m\u001b[0m \u001b[1m18s\u001b[0m 128ms/step - accuracy: 0.9960 - loss: 0.0125 - val_accuracy: 0.9786 - val_loss: 0.1058\n",
      "Epoch 32/150\n",
      "\u001b[1m139/139\u001b[0m \u001b[32m━━━━━━━━━━━━━━━━━━━━\u001b[0m\u001b[37m\u001b[0m \u001b[1m18s\u001b[0m 129ms/step - accuracy: 0.9964 - loss: 0.0115 - val_accuracy: 0.9787 - val_loss: 0.1060\n",
      "Epoch 33/150\n",
      "\u001b[1m139/139\u001b[0m \u001b[32m━━━━━━━━━━━━━━━━━━━━\u001b[0m\u001b[37m\u001b[0m \u001b[1m19s\u001b[0m 133ms/step - accuracy: 0.9968 - loss: 0.0107 - val_accuracy: 0.9787 - val_loss: 0.1089\n",
      "Epoch 34/150\n",
      "\u001b[1m139/139\u001b[0m \u001b[32m━━━━━━━━━━━━━━━━━━━━\u001b[0m\u001b[37m\u001b[0m \u001b[1m19s\u001b[0m 134ms/step - accuracy: 0.9969 - loss: 0.0102 - val_accuracy: 0.9791 - val_loss: 0.1113\n",
      "Epoch 35/150\n",
      "\u001b[1m139/139\u001b[0m \u001b[32m━━━━━━━━━━━━━━━━━━━━\u001b[0m\u001b[37m\u001b[0m \u001b[1m18s\u001b[0m 132ms/step - accuracy: 0.9970 - loss: 0.0096 - val_accuracy: 0.9790 - val_loss: 0.1135\n",
      "Epoch 36/150\n",
      "\u001b[1m139/139\u001b[0m \u001b[32m━━━━━━━━━━━━━━━━━━━━\u001b[0m\u001b[37m\u001b[0m \u001b[1m19s\u001b[0m 137ms/step - accuracy: 0.9973 - loss: 0.0090 - val_accuracy: 0.9790 - val_loss: 0.1147\n",
      "Epoch 37/150\n",
      "\u001b[1m139/139\u001b[0m \u001b[32m━━━━━━━━━━━━━━━━━━━━\u001b[0m\u001b[37m\u001b[0m \u001b[1m19s\u001b[0m 135ms/step - accuracy: 0.9974 - loss: 0.0083 - val_accuracy: 0.9791 - val_loss: 0.1172\n",
      "Epoch 38/150\n",
      "\u001b[1m139/139\u001b[0m \u001b[32m━━━━━━━━━━━━━━━━━━━━\u001b[0m\u001b[37m\u001b[0m \u001b[1m18s\u001b[0m 132ms/step - accuracy: 0.9974 - loss: 0.0086 - val_accuracy: 0.9789 - val_loss: 0.1171\n",
      "Epoch 39/150\n",
      "\u001b[1m139/139\u001b[0m \u001b[32m━━━━━━━━━━━━━━━━━━━━\u001b[0m\u001b[37m\u001b[0m \u001b[1m20s\u001b[0m 146ms/step - accuracy: 0.9977 - loss: 0.0077 - val_accuracy: 0.9788 - val_loss: 0.1199\n",
      "Epoch 40/150\n",
      "\u001b[1m139/139\u001b[0m \u001b[32m━━━━━━━━━━━━━━━━━━━━\u001b[0m\u001b[37m\u001b[0m \u001b[1m19s\u001b[0m 136ms/step - accuracy: 0.9979 - loss: 0.0072 - val_accuracy: 0.9786 - val_loss: 0.1180\n",
      "Epoch 41/150\n",
      "\u001b[1m139/139\u001b[0m \u001b[32m━━━━━━━━━━━━━━━━━━━━\u001b[0m\u001b[37m\u001b[0m \u001b[1m19s\u001b[0m 139ms/step - accuracy: 0.9979 - loss: 0.0071 - val_accuracy: 0.9789 - val_loss: 0.1205\n",
      "Epoch 42/150\n",
      "\u001b[1m139/139\u001b[0m \u001b[32m━━━━━━━━━━━━━━━━━━━━\u001b[0m\u001b[37m\u001b[0m \u001b[1m19s\u001b[0m 137ms/step - accuracy: 0.9981 - loss: 0.0065 - val_accuracy: 0.9791 - val_loss: 0.1243\n",
      "Epoch 43/150\n",
      "\u001b[1m139/139\u001b[0m \u001b[32m━━━━━━━━━━━━━━━━━━━━\u001b[0m\u001b[37m\u001b[0m \u001b[1m20s\u001b[0m 145ms/step - accuracy: 0.9982 - loss: 0.0061 - val_accuracy: 0.9789 - val_loss: 0.1253\n",
      "Epoch 44/150\n",
      "\u001b[1m139/139\u001b[0m \u001b[32m━━━━━━━━━━━━━━━━━━━━\u001b[0m\u001b[37m\u001b[0m \u001b[1m20s\u001b[0m 142ms/step - accuracy: 0.9981 - loss: 0.0061 - val_accuracy: 0.9791 - val_loss: 0.1266\n",
      "Epoch 45/150\n",
      "\u001b[1m139/139\u001b[0m \u001b[32m━━━━━━━━━━━━━━━━━━━━\u001b[0m\u001b[37m\u001b[0m \u001b[1m20s\u001b[0m 143ms/step - accuracy: 0.9982 - loss: 0.0059 - val_accuracy: 0.9791 - val_loss: 0.1300\n",
      "Epoch 46/150\n",
      "\u001b[1m139/139\u001b[0m \u001b[32m━━━━━━━━━━━━━━━━━━━━\u001b[0m\u001b[37m\u001b[0m \u001b[1m18s\u001b[0m 132ms/step - accuracy: 0.9983 - loss: 0.0056 - val_accuracy: 0.9789 - val_loss: 0.1273\n",
      "Epoch 47/150\n",
      "\u001b[1m139/139\u001b[0m \u001b[32m━━━━━━━━━━━━━━━━━━━━\u001b[0m\u001b[37m\u001b[0m \u001b[1m19s\u001b[0m 135ms/step - accuracy: 0.9984 - loss: 0.0051 - val_accuracy: 0.9786 - val_loss: 0.1274\n",
      "Epoch 48/150\n",
      "\u001b[1m139/139\u001b[0m \u001b[32m━━━━━━━━━━━━━━━━━━━━\u001b[0m\u001b[37m\u001b[0m \u001b[1m19s\u001b[0m 139ms/step - accuracy: 0.9986 - loss: 0.0049 - val_accuracy: 0.9792 - val_loss: 0.1309\n",
      "Epoch 49/150\n",
      "\u001b[1m139/139\u001b[0m \u001b[32m━━━━━━━━━━━━━━━━━━━━\u001b[0m\u001b[37m\u001b[0m \u001b[1m18s\u001b[0m 130ms/step - accuracy: 0.9984 - loss: 0.0050 - val_accuracy: 0.9789 - val_loss: 0.1293\n",
      "Epoch 50/150\n",
      "\u001b[1m139/139\u001b[0m \u001b[32m━━━━━━━━━━━━━━━━━━━━\u001b[0m\u001b[37m\u001b[0m \u001b[1m19s\u001b[0m 134ms/step - accuracy: 0.9987 - loss: 0.0044 - val_accuracy: 0.9786 - val_loss: 0.1313\n",
      "Epoch 51/150\n",
      "\u001b[1m139/139\u001b[0m \u001b[32m━━━━━━━━━━━━━━━━━━━━\u001b[0m\u001b[37m\u001b[0m \u001b[1m20s\u001b[0m 141ms/step - accuracy: 0.9988 - loss: 0.0041 - val_accuracy: 0.9787 - val_loss: 0.1337\n",
      "Epoch 52/150\n",
      "\u001b[1m139/139\u001b[0m \u001b[32m━━━━━━━━━━━━━━━━━━━━\u001b[0m\u001b[37m\u001b[0m \u001b[1m19s\u001b[0m 135ms/step - accuracy: 0.9987 - loss: 0.0041 - val_accuracy: 0.9790 - val_loss: 0.1346\n",
      "Epoch 53/150\n",
      "\u001b[1m139/139\u001b[0m \u001b[32m━━━━━━━━━━━━━━━━━━━━\u001b[0m\u001b[37m\u001b[0m \u001b[1m18s\u001b[0m 131ms/step - accuracy: 0.9989 - loss: 0.0038 - val_accuracy: 0.9792 - val_loss: 0.1349\n",
      "Epoch 54/150\n",
      "\u001b[1m139/139\u001b[0m \u001b[32m━━━━━━━━━━━━━━━━━━━━\u001b[0m\u001b[37m\u001b[0m \u001b[1m18s\u001b[0m 131ms/step - accuracy: 0.9988 - loss: 0.0042 - val_accuracy: 0.9786 - val_loss: 0.1358\n",
      "Epoch 55/150\n",
      "\u001b[1m139/139\u001b[0m \u001b[32m━━━━━━━━━━━━━━━━━━━━\u001b[0m\u001b[37m\u001b[0m \u001b[1m19s\u001b[0m 139ms/step - accuracy: 0.9989 - loss: 0.0038 - val_accuracy: 0.9791 - val_loss: 0.1400\n",
      "Epoch 56/150\n",
      "\u001b[1m139/139\u001b[0m \u001b[32m━━━━━━━━━━━━━━━━━━━━\u001b[0m\u001b[37m\u001b[0m \u001b[1m19s\u001b[0m 139ms/step - accuracy: 0.9989 - loss: 0.0035 - val_accuracy: 0.9793 - val_loss: 0.1387\n",
      "Epoch 57/150\n",
      "\u001b[1m139/139\u001b[0m \u001b[32m━━━━━━━━━━━━━━━━━━━━\u001b[0m\u001b[37m\u001b[0m \u001b[1m18s\u001b[0m 130ms/step - accuracy: 0.9990 - loss: 0.0034 - val_accuracy: 0.9793 - val_loss: 0.1394\n",
      "Epoch 58/150\n",
      "\u001b[1m139/139\u001b[0m \u001b[32m━━━━━━━━━━━━━━━━━━━━\u001b[0m\u001b[37m\u001b[0m \u001b[1m20s\u001b[0m 143ms/step - accuracy: 0.9990 - loss: 0.0034 - val_accuracy: 0.9791 - val_loss: 0.1417\n",
      "Epoch 59/150\n",
      "\u001b[1m139/139\u001b[0m \u001b[32m━━━━━━━━━━━━━━━━━━━━\u001b[0m\u001b[37m\u001b[0m \u001b[1m19s\u001b[0m 140ms/step - accuracy: 0.9990 - loss: 0.0034 - val_accuracy: 0.9790 - val_loss: 0.1390\n",
      "Epoch 60/150\n",
      "\u001b[1m139/139\u001b[0m \u001b[32m━━━━━━━━━━━━━━━━━━━━\u001b[0m\u001b[37m\u001b[0m \u001b[1m20s\u001b[0m 147ms/step - accuracy: 0.9992 - loss: 0.0029 - val_accuracy: 0.9791 - val_loss: 0.1460\n",
      "Epoch 61/150\n",
      "\u001b[1m139/139\u001b[0m \u001b[32m━━━━━━━━━━━━━━━━━━━━\u001b[0m\u001b[37m\u001b[0m \u001b[1m21s\u001b[0m 152ms/step - accuracy: 0.9992 - loss: 0.0027 - val_accuracy: 0.9793 - val_loss: 0.1436\n",
      "Epoch 62/150\n",
      "\u001b[1m139/139\u001b[0m \u001b[32m━━━━━━━━━━━━━━━━━━━━\u001b[0m\u001b[37m\u001b[0m \u001b[1m20s\u001b[0m 141ms/step - accuracy: 0.9992 - loss: 0.0028 - val_accuracy: 0.9783 - val_loss: 0.1422\n",
      "Epoch 63/150\n",
      "\u001b[1m139/139\u001b[0m \u001b[32m━━━━━━━━━━━━━━━━━━━━\u001b[0m\u001b[37m\u001b[0m \u001b[1m18s\u001b[0m 132ms/step - accuracy: 0.9987 - loss: 0.0039 - val_accuracy: 0.9794 - val_loss: 0.1423\n",
      "Epoch 64/150\n",
      "\u001b[1m139/139\u001b[0m \u001b[32m━━━━━━━━━━━━━━━━━━━━\u001b[0m\u001b[37m\u001b[0m \u001b[1m18s\u001b[0m 133ms/step - accuracy: 0.9992 - loss: 0.0027 - val_accuracy: 0.9794 - val_loss: 0.1461\n",
      "Epoch 65/150\n",
      "\u001b[1m139/139\u001b[0m \u001b[32m━━━━━━━━━━━━━━━━━━━━\u001b[0m\u001b[37m\u001b[0m \u001b[1m18s\u001b[0m 129ms/step - accuracy: 0.9992 - loss: 0.0026 - val_accuracy: 0.9790 - val_loss: 0.1447\n",
      "Epoch 66/150\n",
      "\u001b[1m139/139\u001b[0m \u001b[32m━━━━━━━━━━━━━━━━━━━━\u001b[0m\u001b[37m\u001b[0m \u001b[1m18s\u001b[0m 131ms/step - accuracy: 0.9993 - loss: 0.0024 - val_accuracy: 0.9794 - val_loss: 0.1457\n",
      "Epoch 67/150\n",
      "\u001b[1m139/139\u001b[0m \u001b[32m━━━━━━━━━━━━━━━━━━━━\u001b[0m\u001b[37m\u001b[0m \u001b[1m18s\u001b[0m 131ms/step - accuracy: 0.9993 - loss: 0.0025 - val_accuracy: 0.9793 - val_loss: 0.1470\n",
      "Epoch 68/150\n",
      "\u001b[1m139/139\u001b[0m \u001b[32m━━━━━━━━━━━━━━━━━━━━\u001b[0m\u001b[37m\u001b[0m \u001b[1m20s\u001b[0m 143ms/step - accuracy: 0.9992 - loss: 0.0026 - val_accuracy: 0.9792 - val_loss: 0.1487\n",
      "Epoch 69/150\n",
      "\u001b[1m139/139\u001b[0m \u001b[32m━━━━━━━━━━━━━━━━━━━━\u001b[0m\u001b[37m\u001b[0m \u001b[1m19s\u001b[0m 133ms/step - accuracy: 0.9994 - loss: 0.0021 - val_accuracy: 0.9791 - val_loss: 0.1470\n",
      "Epoch 70/150\n",
      "\u001b[1m139/139\u001b[0m \u001b[32m━━━━━━━━━━━━━━━━━━━━\u001b[0m\u001b[37m\u001b[0m \u001b[1m18s\u001b[0m 130ms/step - accuracy: 0.9994 - loss: 0.0021 - val_accuracy: 0.9792 - val_loss: 0.1487\n",
      "Epoch 71/150\n",
      "\u001b[1m139/139\u001b[0m \u001b[32m━━━━━━━━━━━━━━━━━━━━\u001b[0m\u001b[37m\u001b[0m \u001b[1m18s\u001b[0m 128ms/step - accuracy: 0.9994 - loss: 0.0021 - val_accuracy: 0.9793 - val_loss: 0.1518\n",
      "Epoch 72/150\n",
      "\u001b[1m139/139\u001b[0m \u001b[32m━━━━━━━━━━━━━━━━━━━━\u001b[0m\u001b[37m\u001b[0m \u001b[1m19s\u001b[0m 138ms/step - accuracy: 0.9995 - loss: 0.0018 - val_accuracy: 0.9789 - val_loss: 0.1505\n",
      "Epoch 73/150\n",
      "\u001b[1m139/139\u001b[0m \u001b[32m━━━━━━━━━━━━━━━━━━━━\u001b[0m\u001b[37m\u001b[0m \u001b[1m18s\u001b[0m 131ms/step - accuracy: 0.9994 - loss: 0.0020 - val_accuracy: 0.9794 - val_loss: 0.1551\n",
      "Epoch 74/150\n",
      "\u001b[1m139/139\u001b[0m \u001b[32m━━━━━━━━━━━━━━━━━━━━\u001b[0m\u001b[37m\u001b[0m \u001b[1m19s\u001b[0m 137ms/step - accuracy: 0.9993 - loss: 0.0022 - val_accuracy: 0.9794 - val_loss: 0.1513\n",
      "Epoch 75/150\n",
      "\u001b[1m139/139\u001b[0m \u001b[32m━━━━━━━━━━━━━━━━━━━━\u001b[0m\u001b[37m\u001b[0m \u001b[1m20s\u001b[0m 141ms/step - accuracy: 0.9996 - loss: 0.0017 - val_accuracy: 0.9795 - val_loss: 0.1530\n",
      "Epoch 76/150\n",
      "\u001b[1m139/139\u001b[0m \u001b[32m━━━━━━━━━━━━━━━━━━━━\u001b[0m\u001b[37m\u001b[0m \u001b[1m20s\u001b[0m 141ms/step - accuracy: 0.9996 - loss: 0.0016 - val_accuracy: 0.9793 - val_loss: 0.1556\n",
      "Epoch 77/150\n",
      "\u001b[1m139/139\u001b[0m \u001b[32m━━━━━━━━━━━━━━━━━━━━\u001b[0m\u001b[37m\u001b[0m \u001b[1m19s\u001b[0m 137ms/step - accuracy: 0.9995 - loss: 0.0018 - val_accuracy: 0.9790 - val_loss: 0.1548\n",
      "Epoch 78/150\n",
      "\u001b[1m139/139\u001b[0m \u001b[32m━━━━━━━━━━━━━━━━━━━━\u001b[0m\u001b[37m\u001b[0m \u001b[1m20s\u001b[0m 141ms/step - accuracy: 0.9994 - loss: 0.0021 - val_accuracy: 0.9793 - val_loss: 0.1540\n",
      "Epoch 79/150\n",
      "\u001b[1m139/139\u001b[0m \u001b[32m━━━━━━━━━━━━━━━━━━━━\u001b[0m\u001b[37m\u001b[0m \u001b[1m20s\u001b[0m 143ms/step - accuracy: 0.9995 - loss: 0.0017 - val_accuracy: 0.9793 - val_loss: 0.1572\n",
      "Epoch 80/150\n",
      "\u001b[1m139/139\u001b[0m \u001b[32m━━━━━━━━━━━━━━━━━━━━\u001b[0m\u001b[37m\u001b[0m \u001b[1m19s\u001b[0m 139ms/step - accuracy: 0.9994 - loss: 0.0021 - val_accuracy: 0.9791 - val_loss: 0.1550\n",
      "Epoch 81/150\n",
      "\u001b[1m139/139\u001b[0m \u001b[32m━━━━━━━━━━━━━━━━━━━━\u001b[0m\u001b[37m\u001b[0m \u001b[1m20s\u001b[0m 144ms/step - accuracy: 0.9996 - loss: 0.0016 - val_accuracy: 0.9791 - val_loss: 0.1546\n",
      "Epoch 82/150\n",
      "\u001b[1m139/139\u001b[0m \u001b[32m━━━━━━━━━━━━━━━━━━━━\u001b[0m\u001b[37m\u001b[0m \u001b[1m19s\u001b[0m 138ms/step - accuracy: 0.9995 - loss: 0.0017 - val_accuracy: 0.9793 - val_loss: 0.1593\n",
      "Epoch 83/150\n",
      "\u001b[1m139/139\u001b[0m \u001b[32m━━━━━━━━━━━━━━━━━━━━\u001b[0m\u001b[37m\u001b[0m \u001b[1m20s\u001b[0m 144ms/step - accuracy: 0.9996 - loss: 0.0014 - val_accuracy: 0.9792 - val_loss: 0.1601\n",
      "Epoch 84/150\n",
      "\u001b[1m139/139\u001b[0m \u001b[32m━━━━━━━━━━━━━━━━━━━━\u001b[0m\u001b[37m\u001b[0m \u001b[1m19s\u001b[0m 140ms/step - accuracy: 0.9997 - loss: 0.0012 - val_accuracy: 0.9794 - val_loss: 0.1597\n",
      "Epoch 85/150\n",
      "\u001b[1m139/139\u001b[0m \u001b[32m━━━━━━━━━━━━━━━━━━━━\u001b[0m\u001b[37m\u001b[0m \u001b[1m20s\u001b[0m 143ms/step - accuracy: 0.9996 - loss: 0.0014 - val_accuracy: 0.9795 - val_loss: 0.1589\n",
      "Epoch 86/150\n",
      "\u001b[1m139/139\u001b[0m \u001b[32m━━━━━━━━━━━━━━━━━━━━\u001b[0m\u001b[37m\u001b[0m \u001b[1m19s\u001b[0m 139ms/step - accuracy: 0.9995 - loss: 0.0015 - val_accuracy: 0.9794 - val_loss: 0.1593\n",
      "Epoch 87/150\n",
      "\u001b[1m139/139\u001b[0m \u001b[32m━━━━━━━━━━━━━━━━━━━━\u001b[0m\u001b[37m\u001b[0m \u001b[1m20s\u001b[0m 141ms/step - accuracy: 0.9996 - loss: 0.0014 - val_accuracy: 0.9792 - val_loss: 0.1576\n",
      "Epoch 88/150\n",
      "\u001b[1m139/139\u001b[0m \u001b[32m━━━━━━━━━━━━━━━━━━━━\u001b[0m\u001b[37m\u001b[0m \u001b[1m19s\u001b[0m 138ms/step - accuracy: 0.9996 - loss: 0.0014 - val_accuracy: 0.9792 - val_loss: 0.1591\n",
      "Epoch 89/150\n",
      "\u001b[1m139/139\u001b[0m \u001b[32m━━━━━━━━━━━━━━━━━━━━\u001b[0m\u001b[37m\u001b[0m \u001b[1m19s\u001b[0m 139ms/step - accuracy: 0.9997 - loss: 0.0013 - val_accuracy: 0.9794 - val_loss: 0.1666\n",
      "Epoch 90/150\n",
      "\u001b[1m139/139\u001b[0m \u001b[32m━━━━━━━━━━━━━━━━━━━━\u001b[0m\u001b[37m\u001b[0m \u001b[1m18s\u001b[0m 132ms/step - accuracy: 0.9995 - loss: 0.0017 - val_accuracy: 0.9797 - val_loss: 0.1583\n",
      "Epoch 91/150\n",
      "\u001b[1m139/139\u001b[0m \u001b[32m━━━━━━━━━━━━━━━━━━━━\u001b[0m\u001b[37m\u001b[0m \u001b[1m17s\u001b[0m 126ms/step - accuracy: 0.9996 - loss: 0.0013 - val_accuracy: 0.9791 - val_loss: 0.1586\n",
      "Epoch 92/150\n",
      "\u001b[1m139/139\u001b[0m \u001b[32m━━━━━━━━━━━━━━━━━━━━\u001b[0m\u001b[37m\u001b[0m \u001b[1m18s\u001b[0m 132ms/step - accuracy: 0.9996 - loss: 0.0014 - val_accuracy: 0.9791 - val_loss: 0.1634\n",
      "Epoch 93/150\n",
      "\u001b[1m139/139\u001b[0m \u001b[32m━━━━━━━━━━━━━━━━━━━━\u001b[0m\u001b[37m\u001b[0m \u001b[1m18s\u001b[0m 132ms/step - accuracy: 0.9996 - loss: 0.0014 - val_accuracy: 0.9792 - val_loss: 0.1621\n",
      "Epoch 94/150\n",
      "\u001b[1m139/139\u001b[0m \u001b[32m━━━━━━━━━━━━━━━━━━━━\u001b[0m\u001b[37m\u001b[0m \u001b[1m18s\u001b[0m 130ms/step - accuracy: 0.9996 - loss: 0.0013 - val_accuracy: 0.9794 - val_loss: 0.1618\n",
      "Epoch 95/150\n",
      "\u001b[1m139/139\u001b[0m \u001b[32m━━━━━━━━━━━━━━━━━━━━\u001b[0m\u001b[37m\u001b[0m \u001b[1m19s\u001b[0m 136ms/step - accuracy: 0.9997 - loss: 0.0010 - val_accuracy: 0.9791 - val_loss: 0.1615\n",
      "Epoch 96/150\n",
      "\u001b[1m139/139\u001b[0m \u001b[32m━━━━━━━━━━━━━━━━━━━━\u001b[0m\u001b[37m\u001b[0m \u001b[1m19s\u001b[0m 139ms/step - accuracy: 0.9997 - loss: 0.0011 - val_accuracy: 0.9794 - val_loss: 0.1620\n",
      "Epoch 97/150\n",
      "\u001b[1m139/139\u001b[0m \u001b[32m━━━━━━━━━━━━━━━━━━━━\u001b[0m\u001b[37m\u001b[0m \u001b[1m20s\u001b[0m 146ms/step - accuracy: 0.9996 - loss: 0.0013 - val_accuracy: 0.9797 - val_loss: 0.1616\n",
      "Epoch 98/150\n",
      "\u001b[1m139/139\u001b[0m \u001b[32m━━━━━━━━━━━━━━━━━━━━\u001b[0m\u001b[37m\u001b[0m \u001b[1m21s\u001b[0m 148ms/step - accuracy: 0.9996 - loss: 0.0013 - val_accuracy: 0.9790 - val_loss: 0.1631\n",
      "Epoch 99/150\n",
      "\u001b[1m139/139\u001b[0m \u001b[32m━━━━━━━━━━━━━━━━━━━━\u001b[0m\u001b[37m\u001b[0m \u001b[1m20s\u001b[0m 142ms/step - accuracy: 0.9996 - loss: 0.0012 - val_accuracy: 0.9792 - val_loss: 0.1648\n",
      "Epoch 100/150\n",
      "\u001b[1m139/139\u001b[0m \u001b[32m━━━━━━━━━━━━━━━━━━━━\u001b[0m\u001b[37m\u001b[0m \u001b[1m20s\u001b[0m 142ms/step - accuracy: 0.9997 - loss: 0.0011 - val_accuracy: 0.9794 - val_loss: 0.1635\n",
      "Epoch 101/150\n",
      "\u001b[1m139/139\u001b[0m \u001b[32m━━━━━━━━━━━━━━━━━━━━\u001b[0m\u001b[37m\u001b[0m \u001b[1m21s\u001b[0m 150ms/step - accuracy: 0.9997 - loss: 0.0011 - val_accuracy: 0.9793 - val_loss: 0.1644\n",
      "Epoch 102/150\n",
      "\u001b[1m139/139\u001b[0m \u001b[32m━━━━━━━━━━━━━━━━━━━━\u001b[0m\u001b[37m\u001b[0m \u001b[1m21s\u001b[0m 148ms/step - accuracy: 0.9996 - loss: 0.0012 - val_accuracy: 0.9793 - val_loss: 0.1668\n",
      "Epoch 103/150\n",
      "\u001b[1m139/139\u001b[0m \u001b[32m━━━━━━━━━━━━━━━━━━━━\u001b[0m\u001b[37m\u001b[0m \u001b[1m21s\u001b[0m 148ms/step - accuracy: 0.9997 - loss: 9.7459e-04 - val_accuracy: 0.9792 - val_loss: 0.1624\n",
      "Epoch 104/150\n",
      "\u001b[1m139/139\u001b[0m \u001b[32m━━━━━━━━━━━━━━━━━━━━\u001b[0m\u001b[37m\u001b[0m \u001b[1m19s\u001b[0m 137ms/step - accuracy: 0.9997 - loss: 0.0010 - val_accuracy: 0.9793 - val_loss: 0.1643\n",
      "Epoch 105/150\n",
      "\u001b[1m139/139\u001b[0m \u001b[32m━━━━━━━━━━━━━━━━━━━━\u001b[0m\u001b[37m\u001b[0m \u001b[1m21s\u001b[0m 153ms/step - accuracy: 0.9996 - loss: 0.0013 - val_accuracy: 0.9793 - val_loss: 0.1649\n",
      "Epoch 106/150\n",
      "\u001b[1m139/139\u001b[0m \u001b[32m━━━━━━━━━━━━━━━━━━━━\u001b[0m\u001b[37m\u001b[0m \u001b[1m21s\u001b[0m 149ms/step - accuracy: 0.9998 - loss: 8.8780e-04 - val_accuracy: 0.9795 - val_loss: 0.1655\n",
      "Epoch 107/150\n",
      "\u001b[1m139/139\u001b[0m \u001b[32m━━━━━━━━━━━━━━━━━━━━\u001b[0m\u001b[37m\u001b[0m \u001b[1m20s\u001b[0m 142ms/step - accuracy: 0.9997 - loss: 9.1407e-04 - val_accuracy: 0.9794 - val_loss: 0.1652\n",
      "Epoch 108/150\n",
      "\u001b[1m139/139\u001b[0m \u001b[32m━━━━━━━━━━━━━━━━━━━━\u001b[0m\u001b[37m\u001b[0m \u001b[1m22s\u001b[0m 157ms/step - accuracy: 0.9997 - loss: 9.3034e-04 - val_accuracy: 0.9794 - val_loss: 0.1662\n",
      "Epoch 109/150\n",
      "\u001b[1m139/139\u001b[0m \u001b[32m━━━━━━━━━━━━━━━━━━━━\u001b[0m\u001b[37m\u001b[0m \u001b[1m21s\u001b[0m 151ms/step - accuracy: 0.9996 - loss: 0.0011 - val_accuracy: 0.9793 - val_loss: 0.1670\n",
      "Epoch 110/150\n",
      "\u001b[1m139/139\u001b[0m \u001b[32m━━━━━━━━━━━━━━━━━━━━\u001b[0m\u001b[37m\u001b[0m \u001b[1m21s\u001b[0m 149ms/step - accuracy: 0.9997 - loss: 9.8713e-04 - val_accuracy: 0.9793 - val_loss: 0.1684\n",
      "Epoch 111/150\n",
      "\u001b[1m139/139\u001b[0m \u001b[32m━━━━━━━━━━━━━━━━━━━━\u001b[0m\u001b[37m\u001b[0m \u001b[1m20s\u001b[0m 144ms/step - accuracy: 0.9998 - loss: 7.8753e-04 - val_accuracy: 0.9792 - val_loss: 0.1653\n",
      "Epoch 112/150\n",
      "\u001b[1m139/139\u001b[0m \u001b[32m━━━━━━━━━━━━━━━━━━━━\u001b[0m\u001b[37m\u001b[0m \u001b[1m20s\u001b[0m 146ms/step - accuracy: 0.9996 - loss: 0.0012 - val_accuracy: 0.9795 - val_loss: 0.1666\n",
      "Epoch 113/150\n",
      "\u001b[1m139/139\u001b[0m \u001b[32m━━━━━━━━━━━━━━━━━━━━\u001b[0m\u001b[37m\u001b[0m \u001b[1m20s\u001b[0m 146ms/step - accuracy: 0.9997 - loss: 0.0010 - val_accuracy: 0.9794 - val_loss: 0.1658\n",
      "Epoch 114/150\n",
      "\u001b[1m139/139\u001b[0m \u001b[32m━━━━━━━━━━━━━━━━━━━━\u001b[0m\u001b[37m\u001b[0m \u001b[1m20s\u001b[0m 144ms/step - accuracy: 0.9997 - loss: 8.2930e-04 - val_accuracy: 0.9795 - val_loss: 0.1681\n",
      "Epoch 115/150\n",
      "\u001b[1m139/139\u001b[0m \u001b[32m━━━━━━━━━━━━━━━━━━━━\u001b[0m\u001b[37m\u001b[0m \u001b[1m20s\u001b[0m 144ms/step - accuracy: 0.9997 - loss: 8.4773e-04 - val_accuracy: 0.9794 - val_loss: 0.1646\n",
      "Epoch 116/150\n",
      "\u001b[1m139/139\u001b[0m \u001b[32m━━━━━━━━━━━━━━━━━━━━\u001b[0m\u001b[37m\u001b[0m \u001b[1m26s\u001b[0m 185ms/step - accuracy: 0.9996 - loss: 0.0012 - val_accuracy: 0.9792 - val_loss: 0.1696\n",
      "Epoch 117/150\n",
      "\u001b[1m139/139\u001b[0m \u001b[32m━━━━━━━━━━━━━━━━━━━━\u001b[0m\u001b[37m\u001b[0m \u001b[1m23s\u001b[0m 167ms/step - accuracy: 0.9998 - loss: 8.8179e-04 - val_accuracy: 0.9794 - val_loss: 0.1666\n",
      "Epoch 118/150\n",
      "\u001b[1m139/139\u001b[0m \u001b[32m━━━━━━━━━━━━━━━━━━━━\u001b[0m\u001b[37m\u001b[0m \u001b[1m24s\u001b[0m 174ms/step - accuracy: 0.9998 - loss: 7.4607e-04 - val_accuracy: 0.9794 - val_loss: 0.1668\n",
      "Epoch 119/150\n",
      "\u001b[1m139/139\u001b[0m \u001b[32m━━━━━━━━━━━━━━━━━━━━\u001b[0m\u001b[37m\u001b[0m \u001b[1m22s\u001b[0m 160ms/step - accuracy: 0.9997 - loss: 7.7748e-04 - val_accuracy: 0.9794 - val_loss: 0.1679\n",
      "Epoch 120/150\n",
      "\u001b[1m139/139\u001b[0m \u001b[32m━━━━━━━━━━━━━━━━━━━━\u001b[0m\u001b[37m\u001b[0m \u001b[1m38s\u001b[0m 137ms/step - accuracy: 0.9997 - loss: 9.2446e-04 - val_accuracy: 0.9794 - val_loss: 0.1703\n",
      "Epoch 121/150\n",
      "\u001b[1m139/139\u001b[0m \u001b[32m━━━━━━━━━━━━━━━━━━━━\u001b[0m\u001b[37m\u001b[0m \u001b[1m23s\u001b[0m 165ms/step - accuracy: 0.9997 - loss: 8.5031e-04 - val_accuracy: 0.9796 - val_loss: 0.1672\n",
      "Epoch 122/150\n",
      "\u001b[1m139/139\u001b[0m \u001b[32m━━━━━━━━━━━━━━━━━━━━\u001b[0m\u001b[37m\u001b[0m \u001b[1m21s\u001b[0m 152ms/step - accuracy: 0.9998 - loss: 7.9150e-04 - val_accuracy: 0.9792 - val_loss: 0.1674\n",
      "Epoch 123/150\n",
      "\u001b[1m139/139\u001b[0m \u001b[32m━━━━━━━━━━━━━━━━━━━━\u001b[0m\u001b[37m\u001b[0m \u001b[1m20s\u001b[0m 140ms/step - accuracy: 0.9998 - loss: 7.6610e-04 - val_accuracy: 0.9791 - val_loss: 0.1676\n",
      "Epoch 124/150\n",
      "\u001b[1m139/139\u001b[0m \u001b[32m━━━━━━━━━━━━━━━━━━━━\u001b[0m\u001b[37m\u001b[0m \u001b[1m21s\u001b[0m 153ms/step - accuracy: 0.9997 - loss: 0.0010 - val_accuracy: 0.9795 - val_loss: 0.1697\n",
      "Epoch 125/150\n",
      "\u001b[1m139/139\u001b[0m \u001b[32m━━━━━━━━━━━━━━━━━━━━\u001b[0m\u001b[37m\u001b[0m \u001b[1m21s\u001b[0m 150ms/step - accuracy: 0.9997 - loss: 9.1796e-04 - val_accuracy: 0.9791 - val_loss: 0.1680\n",
      "Epoch 126/150\n",
      "\u001b[1m139/139\u001b[0m \u001b[32m━━━━━━━━━━━━━━━━━━━━\u001b[0m\u001b[37m\u001b[0m \u001b[1m21s\u001b[0m 149ms/step - accuracy: 0.9998 - loss: 7.3833e-04 - val_accuracy: 0.9793 - val_loss: 0.1708\n",
      "Epoch 127/150\n",
      "\u001b[1m139/139\u001b[0m \u001b[32m━━━━━━━━━━━━━━━━━━━━\u001b[0m\u001b[37m\u001b[0m \u001b[1m22s\u001b[0m 162ms/step - accuracy: 0.9998 - loss: 7.1094e-04 - val_accuracy: 0.9795 - val_loss: 0.1698\n",
      "Epoch 128/150\n",
      "\u001b[1m139/139\u001b[0m \u001b[32m━━━━━━━━━━━━━━━━━━━━\u001b[0m\u001b[37m\u001b[0m \u001b[1m20s\u001b[0m 145ms/step - accuracy: 0.9998 - loss: 6.9491e-04 - val_accuracy: 0.9796 - val_loss: 0.1709\n",
      "Epoch 129/150\n",
      "\u001b[1m139/139\u001b[0m \u001b[32m━━━━━━━━━━━━━━━━━━━━\u001b[0m\u001b[37m\u001b[0m \u001b[1m18s\u001b[0m 132ms/step - accuracy: 0.9998 - loss: 6.2248e-04 - val_accuracy: 0.9796 - val_loss: 0.1728\n",
      "Epoch 130/150\n",
      "\u001b[1m139/139\u001b[0m \u001b[32m━━━━━━━━━━━━━━━━━━━━\u001b[0m\u001b[37m\u001b[0m \u001b[1m20s\u001b[0m 142ms/step - accuracy: 0.9997 - loss: 8.1716e-04 - val_accuracy: 0.9794 - val_loss: 0.1703\n",
      "Epoch 131/150\n",
      "\u001b[1m139/139\u001b[0m \u001b[32m━━━━━━━━━━━━━━━━━━━━\u001b[0m\u001b[37m\u001b[0m \u001b[1m20s\u001b[0m 144ms/step - accuracy: 0.9997 - loss: 9.2655e-04 - val_accuracy: 0.9793 - val_loss: 0.1731\n",
      "Epoch 132/150\n",
      "\u001b[1m139/139\u001b[0m \u001b[32m━━━━━━━━━━━━━━━━━━━━\u001b[0m\u001b[37m\u001b[0m \u001b[1m18s\u001b[0m 130ms/step - accuracy: 0.9998 - loss: 6.9708e-04 - val_accuracy: 0.9792 - val_loss: 0.1725\n",
      "Epoch 133/150\n",
      "\u001b[1m139/139\u001b[0m \u001b[32m━━━━━━━━━━━━━━━━━━━━\u001b[0m\u001b[37m\u001b[0m \u001b[1m21s\u001b[0m 154ms/step - accuracy: 0.9998 - loss: 6.2937e-04 - val_accuracy: 0.9793 - val_loss: 0.1698\n",
      "Epoch 134/150\n",
      "\u001b[1m139/139\u001b[0m \u001b[32m━━━━━━━━━━━━━━━━━━━━\u001b[0m\u001b[37m\u001b[0m \u001b[1m19s\u001b[0m 135ms/step - accuracy: 0.9998 - loss: 7.1139e-04 - val_accuracy: 0.9793 - val_loss: 0.1712\n",
      "Epoch 135/150\n",
      "\u001b[1m139/139\u001b[0m \u001b[32m━━━━━━━━━━━━━━━━━━━━\u001b[0m\u001b[37m\u001b[0m \u001b[1m20s\u001b[0m 145ms/step - accuracy: 0.9998 - loss: 6.3737e-04 - val_accuracy: 0.9792 - val_loss: 0.1712\n",
      "Epoch 136/150\n",
      "\u001b[1m139/139\u001b[0m \u001b[32m━━━━━━━━━━━━━━━━━━━━\u001b[0m\u001b[37m\u001b[0m \u001b[1m20s\u001b[0m 140ms/step - accuracy: 0.9998 - loss: 5.1008e-04 - val_accuracy: 0.9791 - val_loss: 0.1724\n",
      "Epoch 137/150\n",
      "\u001b[1m139/139\u001b[0m \u001b[32m━━━━━━━━━━━━━━━━━━━━\u001b[0m\u001b[37m\u001b[0m \u001b[1m20s\u001b[0m 143ms/step - accuracy: 0.9996 - loss: 8.9959e-04 - val_accuracy: 0.9792 - val_loss: 0.1722\n",
      "Epoch 138/150\n",
      "\u001b[1m139/139\u001b[0m \u001b[32m━━━━━━━━━━━━━━━━━━━━\u001b[0m\u001b[37m\u001b[0m \u001b[1m20s\u001b[0m 142ms/step - accuracy: 0.9998 - loss: 6.3317e-04 - val_accuracy: 0.9795 - val_loss: 0.1724\n",
      "Epoch 139/150\n",
      "\u001b[1m139/139\u001b[0m \u001b[32m━━━━━━━━━━━━━━━━━━━━\u001b[0m\u001b[37m\u001b[0m \u001b[1m20s\u001b[0m 145ms/step - accuracy: 0.9998 - loss: 5.6593e-04 - val_accuracy: 0.9794 - val_loss: 0.1766\n",
      "Epoch 140/150\n",
      "\u001b[1m139/139\u001b[0m \u001b[32m━━━━━━━━━━━━━━━━━━━━\u001b[0m\u001b[37m\u001b[0m \u001b[1m20s\u001b[0m 145ms/step - accuracy: 0.9998 - loss: 7.1440e-04 - val_accuracy: 0.9791 - val_loss: 0.1742\n",
      "Epoch 141/150\n",
      "\u001b[1m139/139\u001b[0m \u001b[32m━━━━━━━━━━━━━━━━━━━━\u001b[0m\u001b[37m\u001b[0m \u001b[1m20s\u001b[0m 142ms/step - accuracy: 0.9997 - loss: 8.7223e-04 - val_accuracy: 0.9795 - val_loss: 0.1705\n",
      "Epoch 142/150\n",
      "\u001b[1m139/139\u001b[0m \u001b[32m━━━━━━━━━━━━━━━━━━━━\u001b[0m\u001b[37m\u001b[0m \u001b[1m20s\u001b[0m 147ms/step - accuracy: 0.9998 - loss: 6.5188e-04 - val_accuracy: 0.9795 - val_loss: 0.1734\n",
      "Epoch 143/150\n",
      "\u001b[1m139/139\u001b[0m \u001b[32m━━━━━━━━━━━━━━━━━━━━\u001b[0m\u001b[37m\u001b[0m \u001b[1m21s\u001b[0m 151ms/step - accuracy: 0.9998 - loss: 7.2137e-04 - val_accuracy: 0.9794 - val_loss: 0.1730\n",
      "Epoch 144/150\n",
      "\u001b[1m139/139\u001b[0m \u001b[32m━━━━━━━━━━━━━━━━━━━━\u001b[0m\u001b[37m\u001b[0m \u001b[1m38s\u001b[0m 131ms/step - accuracy: 0.9998 - loss: 7.6717e-04 - val_accuracy: 0.9794 - val_loss: 0.1697\n",
      "Epoch 145/150\n",
      "\u001b[1m139/139\u001b[0m \u001b[32m━━━━━━━━━━━━━━━━━━━━\u001b[0m\u001b[37m\u001b[0m \u001b[1m20s\u001b[0m 146ms/step - accuracy: 0.9998 - loss: 6.4317e-04 - val_accuracy: 0.9796 - val_loss: 0.1722\n",
      "Epoch 146/150\n",
      "\u001b[1m139/139\u001b[0m \u001b[32m━━━━━━━━━━━━━━━━━━━━\u001b[0m\u001b[37m\u001b[0m \u001b[1m19s\u001b[0m 138ms/step - accuracy: 0.9998 - loss: 6.4336e-04 - val_accuracy: 0.9795 - val_loss: 0.1716\n",
      "Epoch 147/150\n",
      "\u001b[1m139/139\u001b[0m \u001b[32m━━━━━━━━━━━━━━━━━━━━\u001b[0m\u001b[37m\u001b[0m \u001b[1m21s\u001b[0m 151ms/step - accuracy: 0.9997 - loss: 7.4799e-04 - val_accuracy: 0.9794 - val_loss: 0.1722\n",
      "Epoch 148/150\n",
      "\u001b[1m139/139\u001b[0m \u001b[32m━━━━━━━━━━━━━━━━━━━━\u001b[0m\u001b[37m\u001b[0m \u001b[1m20s\u001b[0m 146ms/step - accuracy: 0.9998 - loss: 7.0777e-04 - val_accuracy: 0.9794 - val_loss: 0.1735\n",
      "Epoch 149/150\n",
      "\u001b[1m139/139\u001b[0m \u001b[32m━━━━━━━━━━━━━━━━━━━━\u001b[0m\u001b[37m\u001b[0m \u001b[1m20s\u001b[0m 142ms/step - accuracy: 0.9998 - loss: 5.9098e-04 - val_accuracy: 0.9796 - val_loss: 0.1715\n",
      "Epoch 150/150\n",
      "\u001b[1m139/139\u001b[0m \u001b[32m━━━━━━━━━━━━━━━━━━━━\u001b[0m\u001b[37m\u001b[0m \u001b[1m19s\u001b[0m 134ms/step - accuracy: 0.9998 - loss: 6.3955e-04 - val_accuracy: 0.9795 - val_loss: 0.1728\n"
     ]
    }
   ],
   "source": [
    "checkpoint = ModelCheckpoint(filepath = 'model.keras',\n",
    "                           verbose = 0,\n",
    "                           mode = 'auto',\n",
    "                           save_best_only = True,\n",
    "                           monitor='val_loss')\n",
    "history = model.fit(X_train, np.array(y_train), batch_size = 64, verbose = 1, epochs = 150, validation_split = 0.2, callbacks=[checkpoint])"
   ]
  },
  {
   "cell_type": "markdown",
   "id": "ZObRuZieuvy5",
   "metadata": {
    "id": "ZObRuZieuvy5"
   },
   "source": [
    "# Test and Report"
   ]
  },
  {
   "cell_type": "code",
   "execution_count": 52,
   "id": "ab43961c-64ee-4a98-ab4e-61a0272002d8",
   "metadata": {
    "colab": {
     "base_uri": "https://localhost:8080/"
    },
    "id": "ab43961c-64ee-4a98-ab4e-61a0272002d8",
    "outputId": "9a3d7727-b82f-4f39-871e-b032daa8b0d0"
   },
   "outputs": [
    {
     "name": "stdout",
     "output_type": "stream",
     "text": [
      "\u001b[1m62/62\u001b[0m \u001b[32m━━━━━━━━━━━━━━━━━━━━\u001b[0m\u001b[37m\u001b[0m \u001b[1m4s\u001b[0m 41ms/step\n"
     ]
    },
    {
     "ename": "ValueError",
     "evalue": "multiclass-multioutput is not supported",
     "output_type": "error",
     "traceback": [
      "\u001b[1;31m---------------------------------------------------------------------------\u001b[0m",
      "\u001b[1;31mValueError\u001b[0m                                Traceback (most recent call last)",
      "Cell \u001b[1;32mIn[52], line 9\u001b[0m\n\u001b[0;32m      7\u001b[0m y_pred \u001b[38;5;241m=\u001b[39m [[idx2tag[i] \u001b[38;5;28;01mfor\u001b[39;00m i \u001b[38;5;129;01min\u001b[39;00m row] \u001b[38;5;28;01mfor\u001b[39;00m row \u001b[38;5;129;01min\u001b[39;00m y_pred]\n\u001b[0;32m      8\u001b[0m y_test_true \u001b[38;5;241m=\u001b[39m [[idx2tag[i] \u001b[38;5;28;01mfor\u001b[39;00m i \u001b[38;5;129;01min\u001b[39;00m row] \u001b[38;5;28;01mfor\u001b[39;00m row \u001b[38;5;129;01min\u001b[39;00m y_test_true]\n\u001b[1;32m----> 9\u001b[0m \u001b[38;5;28mprint\u001b[39m(\u001b[38;5;124m\"\u001b[39m\u001b[38;5;124mF1-score is : \u001b[39m\u001b[38;5;132;01m{:.1%}\u001b[39;00m\u001b[38;5;124m\"\u001b[39m\u001b[38;5;241m.\u001b[39mformat(\u001b[43mf1_score\u001b[49m\u001b[43m(\u001b[49m\u001b[43my_test_true\u001b[49m\u001b[43m,\u001b[49m\u001b[43m \u001b[49m\u001b[43my_pred\u001b[49m\u001b[43m)\u001b[49m))\n",
      "File \u001b[1;32mc:\\Users\\hdang\\.virtualenvs\\DM-xmUrTfoX\\Lib\\site-packages\\sklearn\\utils\\_param_validation.py:213\u001b[0m, in \u001b[0;36mvalidate_params.<locals>.decorator.<locals>.wrapper\u001b[1;34m(*args, **kwargs)\u001b[0m\n\u001b[0;32m    207\u001b[0m \u001b[38;5;28;01mtry\u001b[39;00m:\n\u001b[0;32m    208\u001b[0m     \u001b[38;5;28;01mwith\u001b[39;00m config_context(\n\u001b[0;32m    209\u001b[0m         skip_parameter_validation\u001b[38;5;241m=\u001b[39m(\n\u001b[0;32m    210\u001b[0m             prefer_skip_nested_validation \u001b[38;5;129;01mor\u001b[39;00m global_skip_validation\n\u001b[0;32m    211\u001b[0m         )\n\u001b[0;32m    212\u001b[0m     ):\n\u001b[1;32m--> 213\u001b[0m         \u001b[38;5;28;01mreturn\u001b[39;00m \u001b[43mfunc\u001b[49m\u001b[43m(\u001b[49m\u001b[38;5;241;43m*\u001b[39;49m\u001b[43margs\u001b[49m\u001b[43m,\u001b[49m\u001b[43m \u001b[49m\u001b[38;5;241;43m*\u001b[39;49m\u001b[38;5;241;43m*\u001b[39;49m\u001b[43mkwargs\u001b[49m\u001b[43m)\u001b[49m\n\u001b[0;32m    214\u001b[0m \u001b[38;5;28;01mexcept\u001b[39;00m InvalidParameterError \u001b[38;5;28;01mas\u001b[39;00m e:\n\u001b[0;32m    215\u001b[0m     \u001b[38;5;66;03m# When the function is just a wrapper around an estimator, we allow\u001b[39;00m\n\u001b[0;32m    216\u001b[0m     \u001b[38;5;66;03m# the function to delegate validation to the estimator, but we replace\u001b[39;00m\n\u001b[0;32m    217\u001b[0m     \u001b[38;5;66;03m# the name of the estimator by the name of the function in the error\u001b[39;00m\n\u001b[0;32m    218\u001b[0m     \u001b[38;5;66;03m# message to avoid confusion.\u001b[39;00m\n\u001b[0;32m    219\u001b[0m     msg \u001b[38;5;241m=\u001b[39m re\u001b[38;5;241m.\u001b[39msub(\n\u001b[0;32m    220\u001b[0m         \u001b[38;5;124mr\u001b[39m\u001b[38;5;124m\"\u001b[39m\u001b[38;5;124mparameter of \u001b[39m\u001b[38;5;124m\\\u001b[39m\u001b[38;5;124mw+ must be\u001b[39m\u001b[38;5;124m\"\u001b[39m,\n\u001b[0;32m    221\u001b[0m         \u001b[38;5;124mf\u001b[39m\u001b[38;5;124m\"\u001b[39m\u001b[38;5;124mparameter of \u001b[39m\u001b[38;5;132;01m{\u001b[39;00mfunc\u001b[38;5;241m.\u001b[39m\u001b[38;5;18m__qualname__\u001b[39m\u001b[38;5;132;01m}\u001b[39;00m\u001b[38;5;124m must be\u001b[39m\u001b[38;5;124m\"\u001b[39m,\n\u001b[0;32m    222\u001b[0m         \u001b[38;5;28mstr\u001b[39m(e),\n\u001b[0;32m    223\u001b[0m     )\n",
      "File \u001b[1;32mc:\\Users\\hdang\\.virtualenvs\\DM-xmUrTfoX\\Lib\\site-packages\\sklearn\\metrics\\_classification.py:1271\u001b[0m, in \u001b[0;36mf1_score\u001b[1;34m(y_true, y_pred, labels, pos_label, average, sample_weight, zero_division)\u001b[0m\n\u001b[0;32m   1091\u001b[0m \u001b[38;5;129m@validate_params\u001b[39m(\n\u001b[0;32m   1092\u001b[0m     {\n\u001b[0;32m   1093\u001b[0m         \u001b[38;5;124m\"\u001b[39m\u001b[38;5;124my_true\u001b[39m\u001b[38;5;124m\"\u001b[39m: [\u001b[38;5;124m\"\u001b[39m\u001b[38;5;124marray-like\u001b[39m\u001b[38;5;124m\"\u001b[39m, \u001b[38;5;124m\"\u001b[39m\u001b[38;5;124msparse matrix\u001b[39m\u001b[38;5;124m\"\u001b[39m],\n\u001b[1;32m   (...)\u001b[0m\n\u001b[0;32m   1118\u001b[0m     zero_division\u001b[38;5;241m=\u001b[39m\u001b[38;5;124m\"\u001b[39m\u001b[38;5;124mwarn\u001b[39m\u001b[38;5;124m\"\u001b[39m,\n\u001b[0;32m   1119\u001b[0m ):\n\u001b[0;32m   1120\u001b[0m \u001b[38;5;250m    \u001b[39m\u001b[38;5;124;03m\"\"\"Compute the F1 score, also known as balanced F-score or F-measure.\u001b[39;00m\n\u001b[0;32m   1121\u001b[0m \n\u001b[0;32m   1122\u001b[0m \u001b[38;5;124;03m    The F1 score can be interpreted as a harmonic mean of the precision and\u001b[39;00m\n\u001b[1;32m   (...)\u001b[0m\n\u001b[0;32m   1269\u001b[0m \u001b[38;5;124;03m    array([0.66666667, 1.        , 0.66666667])\u001b[39;00m\n\u001b[0;32m   1270\u001b[0m \u001b[38;5;124;03m    \"\"\"\u001b[39;00m\n\u001b[1;32m-> 1271\u001b[0m     \u001b[38;5;28;01mreturn\u001b[39;00m \u001b[43mfbeta_score\u001b[49m\u001b[43m(\u001b[49m\n\u001b[0;32m   1272\u001b[0m \u001b[43m        \u001b[49m\u001b[43my_true\u001b[49m\u001b[43m,\u001b[49m\n\u001b[0;32m   1273\u001b[0m \u001b[43m        \u001b[49m\u001b[43my_pred\u001b[49m\u001b[43m,\u001b[49m\n\u001b[0;32m   1274\u001b[0m \u001b[43m        \u001b[49m\u001b[43mbeta\u001b[49m\u001b[38;5;241;43m=\u001b[39;49m\u001b[38;5;241;43m1\u001b[39;49m\u001b[43m,\u001b[49m\n\u001b[0;32m   1275\u001b[0m \u001b[43m        \u001b[49m\u001b[43mlabels\u001b[49m\u001b[38;5;241;43m=\u001b[39;49m\u001b[43mlabels\u001b[49m\u001b[43m,\u001b[49m\n\u001b[0;32m   1276\u001b[0m \u001b[43m        \u001b[49m\u001b[43mpos_label\u001b[49m\u001b[38;5;241;43m=\u001b[39;49m\u001b[43mpos_label\u001b[49m\u001b[43m,\u001b[49m\n\u001b[0;32m   1277\u001b[0m \u001b[43m        \u001b[49m\u001b[43maverage\u001b[49m\u001b[38;5;241;43m=\u001b[39;49m\u001b[43maverage\u001b[49m\u001b[43m,\u001b[49m\n\u001b[0;32m   1278\u001b[0m \u001b[43m        \u001b[49m\u001b[43msample_weight\u001b[49m\u001b[38;5;241;43m=\u001b[39;49m\u001b[43msample_weight\u001b[49m\u001b[43m,\u001b[49m\n\u001b[0;32m   1279\u001b[0m \u001b[43m        \u001b[49m\u001b[43mzero_division\u001b[49m\u001b[38;5;241;43m=\u001b[39;49m\u001b[43mzero_division\u001b[49m\u001b[43m,\u001b[49m\n\u001b[0;32m   1280\u001b[0m \u001b[43m    \u001b[49m\u001b[43m)\u001b[49m\n",
      "File \u001b[1;32mc:\\Users\\hdang\\.virtualenvs\\DM-xmUrTfoX\\Lib\\site-packages\\sklearn\\utils\\_param_validation.py:186\u001b[0m, in \u001b[0;36mvalidate_params.<locals>.decorator.<locals>.wrapper\u001b[1;34m(*args, **kwargs)\u001b[0m\n\u001b[0;32m    184\u001b[0m global_skip_validation \u001b[38;5;241m=\u001b[39m get_config()[\u001b[38;5;124m\"\u001b[39m\u001b[38;5;124mskip_parameter_validation\u001b[39m\u001b[38;5;124m\"\u001b[39m]\n\u001b[0;32m    185\u001b[0m \u001b[38;5;28;01mif\u001b[39;00m global_skip_validation:\n\u001b[1;32m--> 186\u001b[0m     \u001b[38;5;28;01mreturn\u001b[39;00m \u001b[43mfunc\u001b[49m\u001b[43m(\u001b[49m\u001b[38;5;241;43m*\u001b[39;49m\u001b[43margs\u001b[49m\u001b[43m,\u001b[49m\u001b[43m \u001b[49m\u001b[38;5;241;43m*\u001b[39;49m\u001b[38;5;241;43m*\u001b[39;49m\u001b[43mkwargs\u001b[49m\u001b[43m)\u001b[49m\n\u001b[0;32m    188\u001b[0m func_sig \u001b[38;5;241m=\u001b[39m signature(func)\n\u001b[0;32m    190\u001b[0m \u001b[38;5;66;03m# Map *args/**kwargs to the function signature\u001b[39;00m\n",
      "File \u001b[1;32mc:\\Users\\hdang\\.virtualenvs\\DM-xmUrTfoX\\Lib\\site-packages\\sklearn\\metrics\\_classification.py:1463\u001b[0m, in \u001b[0;36mfbeta_score\u001b[1;34m(y_true, y_pred, beta, labels, pos_label, average, sample_weight, zero_division)\u001b[0m\n\u001b[0;32m   1283\u001b[0m \u001b[38;5;129m@validate_params\u001b[39m(\n\u001b[0;32m   1284\u001b[0m     {\n\u001b[0;32m   1285\u001b[0m         \u001b[38;5;124m\"\u001b[39m\u001b[38;5;124my_true\u001b[39m\u001b[38;5;124m\"\u001b[39m: [\u001b[38;5;124m\"\u001b[39m\u001b[38;5;124marray-like\u001b[39m\u001b[38;5;124m\"\u001b[39m, \u001b[38;5;124m\"\u001b[39m\u001b[38;5;124msparse matrix\u001b[39m\u001b[38;5;124m\"\u001b[39m],\n\u001b[1;32m   (...)\u001b[0m\n\u001b[0;32m   1312\u001b[0m     zero_division\u001b[38;5;241m=\u001b[39m\u001b[38;5;124m\"\u001b[39m\u001b[38;5;124mwarn\u001b[39m\u001b[38;5;124m\"\u001b[39m,\n\u001b[0;32m   1313\u001b[0m ):\n\u001b[0;32m   1314\u001b[0m \u001b[38;5;250m    \u001b[39m\u001b[38;5;124;03m\"\"\"Compute the F-beta score.\u001b[39;00m\n\u001b[0;32m   1315\u001b[0m \n\u001b[0;32m   1316\u001b[0m \u001b[38;5;124;03m    The F-beta score is the weighted harmonic mean of precision and recall,\u001b[39;00m\n\u001b[1;32m   (...)\u001b[0m\n\u001b[0;32m   1460\u001b[0m \u001b[38;5;124;03m    0.12...\u001b[39;00m\n\u001b[0;32m   1461\u001b[0m \u001b[38;5;124;03m    \"\"\"\u001b[39;00m\n\u001b[1;32m-> 1463\u001b[0m     _, _, f, _ \u001b[38;5;241m=\u001b[39m \u001b[43mprecision_recall_fscore_support\u001b[49m\u001b[43m(\u001b[49m\n\u001b[0;32m   1464\u001b[0m \u001b[43m        \u001b[49m\u001b[43my_true\u001b[49m\u001b[43m,\u001b[49m\n\u001b[0;32m   1465\u001b[0m \u001b[43m        \u001b[49m\u001b[43my_pred\u001b[49m\u001b[43m,\u001b[49m\n\u001b[0;32m   1466\u001b[0m \u001b[43m        \u001b[49m\u001b[43mbeta\u001b[49m\u001b[38;5;241;43m=\u001b[39;49m\u001b[43mbeta\u001b[49m\u001b[43m,\u001b[49m\n\u001b[0;32m   1467\u001b[0m \u001b[43m        \u001b[49m\u001b[43mlabels\u001b[49m\u001b[38;5;241;43m=\u001b[39;49m\u001b[43mlabels\u001b[49m\u001b[43m,\u001b[49m\n\u001b[0;32m   1468\u001b[0m \u001b[43m        \u001b[49m\u001b[43mpos_label\u001b[49m\u001b[38;5;241;43m=\u001b[39;49m\u001b[43mpos_label\u001b[49m\u001b[43m,\u001b[49m\n\u001b[0;32m   1469\u001b[0m \u001b[43m        \u001b[49m\u001b[43maverage\u001b[49m\u001b[38;5;241;43m=\u001b[39;49m\u001b[43maverage\u001b[49m\u001b[43m,\u001b[49m\n\u001b[0;32m   1470\u001b[0m \u001b[43m        \u001b[49m\u001b[43mwarn_for\u001b[49m\u001b[38;5;241;43m=\u001b[39;49m\u001b[43m(\u001b[49m\u001b[38;5;124;43m\"\u001b[39;49m\u001b[38;5;124;43mf-score\u001b[39;49m\u001b[38;5;124;43m\"\u001b[39;49m\u001b[43m,\u001b[49m\u001b[43m)\u001b[49m\u001b[43m,\u001b[49m\n\u001b[0;32m   1471\u001b[0m \u001b[43m        \u001b[49m\u001b[43msample_weight\u001b[49m\u001b[38;5;241;43m=\u001b[39;49m\u001b[43msample_weight\u001b[49m\u001b[43m,\u001b[49m\n\u001b[0;32m   1472\u001b[0m \u001b[43m        \u001b[49m\u001b[43mzero_division\u001b[49m\u001b[38;5;241;43m=\u001b[39;49m\u001b[43mzero_division\u001b[49m\u001b[43m,\u001b[49m\n\u001b[0;32m   1473\u001b[0m \u001b[43m    \u001b[49m\u001b[43m)\u001b[49m\n\u001b[0;32m   1474\u001b[0m     \u001b[38;5;28;01mreturn\u001b[39;00m f\n",
      "File \u001b[1;32mc:\\Users\\hdang\\.virtualenvs\\DM-xmUrTfoX\\Lib\\site-packages\\sklearn\\utils\\_param_validation.py:186\u001b[0m, in \u001b[0;36mvalidate_params.<locals>.decorator.<locals>.wrapper\u001b[1;34m(*args, **kwargs)\u001b[0m\n\u001b[0;32m    184\u001b[0m global_skip_validation \u001b[38;5;241m=\u001b[39m get_config()[\u001b[38;5;124m\"\u001b[39m\u001b[38;5;124mskip_parameter_validation\u001b[39m\u001b[38;5;124m\"\u001b[39m]\n\u001b[0;32m    185\u001b[0m \u001b[38;5;28;01mif\u001b[39;00m global_skip_validation:\n\u001b[1;32m--> 186\u001b[0m     \u001b[38;5;28;01mreturn\u001b[39;00m \u001b[43mfunc\u001b[49m\u001b[43m(\u001b[49m\u001b[38;5;241;43m*\u001b[39;49m\u001b[43margs\u001b[49m\u001b[43m,\u001b[49m\u001b[43m \u001b[49m\u001b[38;5;241;43m*\u001b[39;49m\u001b[38;5;241;43m*\u001b[39;49m\u001b[43mkwargs\u001b[49m\u001b[43m)\u001b[49m\n\u001b[0;32m    188\u001b[0m func_sig \u001b[38;5;241m=\u001b[39m signature(func)\n\u001b[0;32m    190\u001b[0m \u001b[38;5;66;03m# Map *args/**kwargs to the function signature\u001b[39;00m\n",
      "File \u001b[1;32mc:\\Users\\hdang\\.virtualenvs\\DM-xmUrTfoX\\Lib\\site-packages\\sklearn\\metrics\\_classification.py:1767\u001b[0m, in \u001b[0;36mprecision_recall_fscore_support\u001b[1;34m(y_true, y_pred, beta, labels, pos_label, average, warn_for, sample_weight, zero_division)\u001b[0m\n\u001b[0;32m   1604\u001b[0m \u001b[38;5;250m\u001b[39m\u001b[38;5;124;03m\"\"\"Compute precision, recall, F-measure and support for each class.\u001b[39;00m\n\u001b[0;32m   1605\u001b[0m \n\u001b[0;32m   1606\u001b[0m \u001b[38;5;124;03mThe precision is the ratio ``tp / (tp + fp)`` where ``tp`` is the number of\u001b[39;00m\n\u001b[1;32m   (...)\u001b[0m\n\u001b[0;32m   1764\u001b[0m \u001b[38;5;124;03m array([2, 2, 2]))\u001b[39;00m\n\u001b[0;32m   1765\u001b[0m \u001b[38;5;124;03m\"\"\"\u001b[39;00m\n\u001b[0;32m   1766\u001b[0m _check_zero_division(zero_division)\n\u001b[1;32m-> 1767\u001b[0m labels \u001b[38;5;241m=\u001b[39m \u001b[43m_check_set_wise_labels\u001b[49m\u001b[43m(\u001b[49m\u001b[43my_true\u001b[49m\u001b[43m,\u001b[49m\u001b[43m \u001b[49m\u001b[43my_pred\u001b[49m\u001b[43m,\u001b[49m\u001b[43m \u001b[49m\u001b[43maverage\u001b[49m\u001b[43m,\u001b[49m\u001b[43m \u001b[49m\u001b[43mlabels\u001b[49m\u001b[43m,\u001b[49m\u001b[43m \u001b[49m\u001b[43mpos_label\u001b[49m\u001b[43m)\u001b[49m\n\u001b[0;32m   1769\u001b[0m \u001b[38;5;66;03m# Calculate tp_sum, pred_sum, true_sum ###\u001b[39;00m\n\u001b[0;32m   1770\u001b[0m samplewise \u001b[38;5;241m=\u001b[39m average \u001b[38;5;241m==\u001b[39m \u001b[38;5;124m\"\u001b[39m\u001b[38;5;124msamples\u001b[39m\u001b[38;5;124m\"\u001b[39m\n",
      "File \u001b[1;32mc:\\Users\\hdang\\.virtualenvs\\DM-xmUrTfoX\\Lib\\site-packages\\sklearn\\metrics\\_classification.py:1539\u001b[0m, in \u001b[0;36m_check_set_wise_labels\u001b[1;34m(y_true, y_pred, average, labels, pos_label)\u001b[0m\n\u001b[0;32m   1536\u001b[0m \u001b[38;5;28;01mif\u001b[39;00m average \u001b[38;5;129;01mnot\u001b[39;00m \u001b[38;5;129;01min\u001b[39;00m average_options \u001b[38;5;129;01mand\u001b[39;00m average \u001b[38;5;241m!=\u001b[39m \u001b[38;5;124m\"\u001b[39m\u001b[38;5;124mbinary\u001b[39m\u001b[38;5;124m\"\u001b[39m:\n\u001b[0;32m   1537\u001b[0m     \u001b[38;5;28;01mraise\u001b[39;00m \u001b[38;5;167;01mValueError\u001b[39;00m(\u001b[38;5;124m\"\u001b[39m\u001b[38;5;124maverage has to be one of \u001b[39m\u001b[38;5;124m\"\u001b[39m \u001b[38;5;241m+\u001b[39m \u001b[38;5;28mstr\u001b[39m(average_options))\n\u001b[1;32m-> 1539\u001b[0m y_type, y_true, y_pred \u001b[38;5;241m=\u001b[39m \u001b[43m_check_targets\u001b[49m\u001b[43m(\u001b[49m\u001b[43my_true\u001b[49m\u001b[43m,\u001b[49m\u001b[43m \u001b[49m\u001b[43my_pred\u001b[49m\u001b[43m)\u001b[49m\n\u001b[0;32m   1540\u001b[0m \u001b[38;5;66;03m# Convert to Python primitive type to avoid NumPy type / Python str\u001b[39;00m\n\u001b[0;32m   1541\u001b[0m \u001b[38;5;66;03m# comparison. See https://github.com/numpy/numpy/issues/6784\u001b[39;00m\n\u001b[0;32m   1542\u001b[0m present_labels \u001b[38;5;241m=\u001b[39m unique_labels(y_true, y_pred)\u001b[38;5;241m.\u001b[39mtolist()\n",
      "File \u001b[1;32mc:\\Users\\hdang\\.virtualenvs\\DM-xmUrTfoX\\Lib\\site-packages\\sklearn\\metrics\\_classification.py:105\u001b[0m, in \u001b[0;36m_check_targets\u001b[1;34m(y_true, y_pred)\u001b[0m\n\u001b[0;32m    103\u001b[0m \u001b[38;5;66;03m# No metrics support \"multiclass-multioutput\" format\u001b[39;00m\n\u001b[0;32m    104\u001b[0m \u001b[38;5;28;01mif\u001b[39;00m y_type \u001b[38;5;129;01mnot\u001b[39;00m \u001b[38;5;129;01min\u001b[39;00m [\u001b[38;5;124m\"\u001b[39m\u001b[38;5;124mbinary\u001b[39m\u001b[38;5;124m\"\u001b[39m, \u001b[38;5;124m\"\u001b[39m\u001b[38;5;124mmulticlass\u001b[39m\u001b[38;5;124m\"\u001b[39m, \u001b[38;5;124m\"\u001b[39m\u001b[38;5;124mmultilabel-indicator\u001b[39m\u001b[38;5;124m\"\u001b[39m]:\n\u001b[1;32m--> 105\u001b[0m     \u001b[38;5;28;01mraise\u001b[39;00m \u001b[38;5;167;01mValueError\u001b[39;00m(\u001b[38;5;124m\"\u001b[39m\u001b[38;5;132;01m{0}\u001b[39;00m\u001b[38;5;124m is not supported\u001b[39m\u001b[38;5;124m\"\u001b[39m\u001b[38;5;241m.\u001b[39mformat(y_type))\n\u001b[0;32m    107\u001b[0m \u001b[38;5;28;01mif\u001b[39;00m y_type \u001b[38;5;129;01min\u001b[39;00m [\u001b[38;5;124m\"\u001b[39m\u001b[38;5;124mbinary\u001b[39m\u001b[38;5;124m\"\u001b[39m, \u001b[38;5;124m\"\u001b[39m\u001b[38;5;124mmulticlass\u001b[39m\u001b[38;5;124m\"\u001b[39m]:\n\u001b[0;32m    108\u001b[0m     xp, _ \u001b[38;5;241m=\u001b[39m get_namespace(y_true, y_pred)\n",
      "\u001b[1;31mValueError\u001b[0m: multiclass-multioutput is not supported"
     ]
    }
   ],
   "source": [
    "# Test với toàn bộ tập test\n",
    "y_pred = model.predict(X_test)\n",
    "y_pred = np.argmax(y_pred, axis=-1)\n",
    "y_test_true = np.argmax(y_test, -1)\n",
    "\n",
    "# Kiểm thử F1-Score\n",
    "y_pred = [[idx2tag[i] for i in row] for row in y_pred]\n",
    "y_test_true = [[idx2tag[i] for i in row] for row in y_test_true]\n",
    "print(\"F1-score is : {:.1%}\".format(f1_score(y_test_true, y_pred)))"
   ]
  },
  {
   "cell_type": "code",
   "execution_count": null,
   "id": "OOHuqCkIcSwx",
   "metadata": {
    "colab": {
     "base_uri": "https://localhost:8080/"
    },
    "id": "OOHuqCkIcSwx",
    "outputId": "45b19464-bc84-41d9-9bbf-91161f5f5839"
   },
   "outputs": [
    {
     "name": "stdout",
     "output_type": "stream",
     "text": [
      "\u001b[1m1/1\u001b[0m \u001b[32m━━━━━━━━━━━━━━━━━━━━\u001b[0m\u001b[37m\u001b[0m \u001b[1m0s\u001b[0m 47ms/step\n",
      "Example #751\n",
      "Word           ||True\t\t\t||Pred\n",
      "**************************************************\n",
      "Việc           : O              \t O\n",
      "họ             : O              \t O\n",
      "chơi           : O              \t O\n",
      "không          : O              \t O\n",
      "tốt            : O              \t O\n",
      "trong          : O              \t O\n",
      "ba             : O              \t O\n",
      "trận           : O              \t O\n",
      "trên           : O              \t O\n",
      "sân            : O              \t O\n",
      "nhà            : O              \t O\n",
      "đang           : O              \t O\n",
      "đặt            : O              \t O\n",
      "ra             : O              \t O\n",
      "những          : O              \t O\n",
      "câu            : O              \t O\n",
      "hỏi            : O              \t O\n",
      ",              : O              \t O\n",
      "nhưng          : O              \t O\n",
      "không          : O              \t O\n",
      "có             : O              \t O\n",
      "gì             : O              \t O\n",
      "phải           : O              \t O\n",
      "nghi           : O              \t O\n",
      "ngờ            : O              \t O\n",
      "về             : O              \t O\n",
      "khả            : O              \t O\n",
      "năng           : O              \t O\n",
      "của            : O              \t O\n",
      "Real           : B-ORGANIZATION-SPORTS\t B-ORGANIZATION-SPORTS\n",
      ".              : O              \t O\n"
     ]
    }
   ],
   "source": [
    "idx = np.random.randint(0,X_test.shape[0])\n",
    "\n",
    "p = model.predict(np.array([X_test[idx]]))\n",
    "p = np.argmax(p, axis=-1)\n",
    "true = np.argmax(y_test[idx], -1)\n",
    "\n",
    "print(\"Example #{}\".format(idx))\n",
    "\n",
    "print(\"{:15}||{:5}||{}\".format(\"Word\", \"True\\t\\t\\t\", \"Pred\"))\n",
    "print(50 * \"*\")\n",
    "for w, t, pred in zip(X_test[idx], true, p[0]):\n",
    "    if w != 0:\n",
    "        print(\"{:15}: {:15}\\t {}\".format(words[w-2], idx2tag[t], idx2tag[pred]))"
   ]
  },
  {
   "cell_type": "code",
   "execution_count": null,
   "id": "2d762e64-b8f8-42eb-93c3-3040f09aca38",
   "metadata": {
    "id": "2d762e64-b8f8-42eb-93c3-3040f09aca38",
    "outputId": "7f5f84c8-a21a-43b9-9218-f9dd7b9b7d90"
   },
   "outputs": [
    {
     "name": "stderr",
     "output_type": "stream",
     "text": [
      "c:\\Users\\hdang\\.virtualenvs\\DM-xmUrTfoX\\Lib\\site-packages\\seqeval\\metrics\\v1.py:57: UndefinedMetricWarning: Recall and F-score are ill-defined and being set to 0.0 in labels with no true samples. Use `zero_division` parameter to control this behavior.\n",
      "  _warn_prf(average, modifier, msg_start, len(result))\n"
     ]
    },
    {
     "name": "stdout",
     "output_type": "stream",
     "text": [
      "                     precision    recall  f1-score   support\n",
      "\n",
      "                 AD       1.00      1.00      1.00      1842\n",
      "           DATETIME       0.31      0.27      0.29       159\n",
      "      DATETIME-DATE       0.36      0.36      0.36        70\n",
      " DATETIME-DATERANGE       0.08      0.11      0.10         9\n",
      "  DATETIME-DURATION       0.34      0.44      0.38        55\n",
      "       DATETIME-SET       0.00      0.00      0.00         0\n",
      "      DATETIME-TIME       0.20      0.21      0.21        19\n",
      " DATETIME-TIMERANGE       0.24      0.25      0.24        20\n",
      "           LOCATION       0.47      0.46      0.47       526\n",
      "       LOCATION-GEO       0.16      0.27      0.20        11\n",
      "       LOCATION-GPE       0.49      0.58      0.53       453\n",
      "     LOCATION-STRUC       0.23      0.31      0.26        39\n",
      "       ORGANIZATION       0.54      0.60      0.57       637\n",
      "   ORGANIZATION-MED       0.10      0.11      0.11         9\n",
      "ORGANIZATION-SPORTS       0.81      0.78      0.80       134\n",
      "             PERSON       0.81      0.80      0.80       865\n",
      "\n",
      "          micro avg       0.73      0.75      0.74      4848\n",
      "          macro avg       0.38      0.41      0.39      4848\n",
      "       weighted avg       0.74      0.75      0.74      4848\n",
      "\n"
     ]
    }
   ],
   "source": [
    "print(classification_report(y_test_true, y_pred))"
   ]
  }
 ],
 "metadata": {
  "colab": {
   "provenance": [],
   "toc_visible": true
  },
  "kernelspec": {
   "display_name": "Python 3 (ipykernel)",
   "language": "python",
   "name": "python3"
  },
  "language_info": {
   "codemirror_mode": {
    "name": "ipython",
    "version": 3
   },
   "file_extension": ".py",
   "mimetype": "text/x-python",
   "name": "python",
   "nbconvert_exporter": "python",
   "pygments_lexer": "ipython3",
   "version": "3.11.5"
  }
 },
 "nbformat": 4,
 "nbformat_minor": 5
}
