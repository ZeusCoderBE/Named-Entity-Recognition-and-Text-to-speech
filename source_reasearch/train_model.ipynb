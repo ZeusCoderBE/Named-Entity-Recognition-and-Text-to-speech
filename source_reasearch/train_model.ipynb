{
 "cells": [
  {
   "cell_type": "markdown",
   "id": "W43jOHGDpnUl",
   "metadata": {
    "id": "W43jOHGDpnUl"
   },
   "source": [
    "## 1.Import Library"
   ]
  },
  {
   "cell_type": "code",
   "execution_count": 32,
   "id": "9ab33bdb-071d-4add-a886-2d9b438b4e20",
   "metadata": {
    "id": "9ab33bdb-071d-4add-a886-2d9b438b4e20"
   },
   "outputs": [],
   "source": [
    "import pandas as pd\n",
    "import numpy as np\n",
    "\n",
    "\n",
    "# Modeling\n",
    "import tensorflow as tf\n",
    "from keras.utils import to_categorical\n",
    "from keras.layers import LSTM, Dense, TimeDistributed, Embedding, Bidirectional, Dropout, SpatialDropout1D\n",
    "from keras.models import Sequential, Model\n",
    "from keras.callbacks import ModelCheckpoint\n",
    "from keras_contrib.layers import CRF\n",
    "\n",
    "from sklearn.model_selection import train_test_split\n",
    "from sklearn.metrics import classification_report, f1_score, make_scorer\n",
    "from seqeval.metrics import precision_score, recall_score, f1_score as seqeval_f1_score, classification_report as seqeval_classification_report\n",
    "\n",
    "from tensorflow.keras.preprocessing.text import text_to_word_sequence\n",
    "from tensorflow.keras.preprocessing.sequence import pad_sequences\n"
   ]
  },
  {
   "cell_type": "markdown",
   "id": "zsMLa7bYpr7j",
   "metadata": {
    "id": "zsMLa7bYpr7j"
   },
   "source": [
    "## 2.1 Built model"
   ]
  },
  {
   "cell_type": "markdown",
   "id": "4283d375",
   "metadata": {},
   "source": [
    "### 2.1.1.Explore data analysis"
   ]
  },
  {
   "cell_type": "code",
   "execution_count": 33,
   "id": "ff120fa3-85e7-4da1-88c9-7680a519e952",
   "metadata": {
    "id": "ff120fa3-85e7-4da1-88c9-7680a519e952"
   },
   "outputs": [],
   "source": [
    "df = pd.read_csv('../data/paper_data/train.csv', sep = '\\t',header=None, names=[\"Word\", \"Pos\", \"Chunk\", \"Tag\"])"
   ]
  },
  {
   "cell_type": "markdown",
   "id": "b4efafb2",
   "metadata": {},
   "source": [
    "> First 5 lines"
   ]
  },
  {
   "cell_type": "code",
   "execution_count": 34,
   "id": "cd11a16a-b66e-4b81-b5fe-d2561a8dcbb0",
   "metadata": {
    "colab": {
     "base_uri": "https://localhost:8080/"
    },
    "id": "cd11a16a-b66e-4b81-b5fe-d2561a8dcbb0",
    "outputId": "f10232cd-83a0-41df-e786-8d791f777ce1"
   },
   "outputs": [
    {
     "name": "stdout",
     "output_type": "stream",
     "text": [
      "     Word Pos Chunk Tag\n",
      "0     Mâu   _     _   O\n",
      "1   thuẫn   _     _   O\n",
      "2    tình   _     _   O\n",
      "3     cảm   _     _   O\n",
      "4       ,   _     _   O\n",
      "5   thanh   _     _   O\n",
      "6    niên   _     _   O\n",
      "7     tạt   _     _   O\n",
      "8    xăng   _     _   O\n",
      "9     đốt   _     _   O\n",
      "10    cửa   _     _   O\n",
      "11   hàng   _     _   O\n",
      "12    bạn   _     _   O\n",
      "13    gái   _     _   O\n",
      "14    Xảy   _     _   O\n",
      "15     ra   _     _   O\n",
      "16    cãi   _     _   O\n",
      "17     vã   _     _   O\n",
      "18      ,   _     _   O\n",
      "19  trong   _     _   O\n"
     ]
    }
   ],
   "source": [
    "print(df.head(20))"
   ]
  },
  {
   "cell_type": "code",
   "execution_count": 35,
   "id": "32fb9a7b-2733-4ce2-b273-3e8c3b7b1e75",
   "metadata": {
    "colab": {
     "base_uri": "https://localhost:8080/",
     "height": 673
    },
    "id": "32fb9a7b-2733-4ce2-b273-3e8c3b7b1e75",
    "outputId": "70a15c76-171a-4f5e-8c2b-583fa578e468"
   },
   "outputs": [
    {
     "data": {
      "text/html": [
       "<div>\n",
       "<style scoped>\n",
       "    .dataframe tbody tr th:only-of-type {\n",
       "        vertical-align: middle;\n",
       "    }\n",
       "\n",
       "    .dataframe tbody tr th {\n",
       "        vertical-align: top;\n",
       "    }\n",
       "\n",
       "    .dataframe thead th {\n",
       "        text-align: right;\n",
       "    }\n",
       "</style>\n",
       "<table border=\"1\" class=\"dataframe\">\n",
       "  <thead>\n",
       "    <tr style=\"text-align: right;\">\n",
       "      <th></th>\n",
       "      <th>Word</th>\n",
       "      <th>Pos</th>\n",
       "      <th>Chunk</th>\n",
       "      <th>Tag</th>\n",
       "    </tr>\n",
       "  </thead>\n",
       "  <tbody>\n",
       "    <tr>\n",
       "      <th>0</th>\n",
       "      <td>Mâu</td>\n",
       "      <td>_</td>\n",
       "      <td>_</td>\n",
       "      <td>O</td>\n",
       "    </tr>\n",
       "    <tr>\n",
       "      <th>1</th>\n",
       "      <td>thuẫn</td>\n",
       "      <td>_</td>\n",
       "      <td>_</td>\n",
       "      <td>O</td>\n",
       "    </tr>\n",
       "    <tr>\n",
       "      <th>2</th>\n",
       "      <td>tình</td>\n",
       "      <td>_</td>\n",
       "      <td>_</td>\n",
       "      <td>O</td>\n",
       "    </tr>\n",
       "    <tr>\n",
       "      <th>3</th>\n",
       "      <td>cảm</td>\n",
       "      <td>_</td>\n",
       "      <td>_</td>\n",
       "      <td>O</td>\n",
       "    </tr>\n",
       "    <tr>\n",
       "      <th>4</th>\n",
       "      <td>,</td>\n",
       "      <td>_</td>\n",
       "      <td>_</td>\n",
       "      <td>O</td>\n",
       "    </tr>\n",
       "    <tr>\n",
       "      <th>...</th>\n",
       "      <td>...</td>\n",
       "      <td>...</td>\n",
       "      <td>...</td>\n",
       "      <td>...</td>\n",
       "    </tr>\n",
       "    <tr>\n",
       "      <th>479248</th>\n",
       "      <td>Cao</td>\n",
       "      <td>_</td>\n",
       "      <td>_</td>\n",
       "      <td>B-PERSON</td>\n",
       "    </tr>\n",
       "    <tr>\n",
       "      <th>479249</th>\n",
       "      <td>Lực</td>\n",
       "      <td>_</td>\n",
       "      <td>_</td>\n",
       "      <td>I-PERSON</td>\n",
       "    </tr>\n",
       "    <tr>\n",
       "      <th>479250</th>\n",
       "      <td>(</td>\n",
       "      <td>_</td>\n",
       "      <td>_</td>\n",
       "      <td>O</td>\n",
       "    </tr>\n",
       "    <tr>\n",
       "      <th>479251</th>\n",
       "      <td>Theo</td>\n",
       "      <td>_</td>\n",
       "      <td>_</td>\n",
       "      <td>O</td>\n",
       "    </tr>\n",
       "    <tr>\n",
       "      <th>479252</th>\n",
       "      <td>NDTV</td>\n",
       "      <td>_</td>\n",
       "      <td>_</td>\n",
       "      <td>B-ORGANIZATION</td>\n",
       "    </tr>\n",
       "  </tbody>\n",
       "</table>\n",
       "<p>479253 rows × 4 columns</p>\n",
       "</div>"
      ],
      "text/plain": [
       "         Word Pos Chunk             Tag\n",
       "0         Mâu   _     _               O\n",
       "1       thuẫn   _     _               O\n",
       "2        tình   _     _               O\n",
       "3         cảm   _     _               O\n",
       "4           ,   _     _               O\n",
       "...       ...  ..   ...             ...\n",
       "479248    Cao   _     _        B-PERSON\n",
       "479249    Lực   _     _        I-PERSON\n",
       "479250      (   _     _               O\n",
       "479251   Theo   _     _               O\n",
       "479252   NDTV   _     _  B-ORGANIZATION\n",
       "\n",
       "[479253 rows x 4 columns]"
      ]
     },
     "execution_count": 35,
     "metadata": {},
     "output_type": "execute_result"
    }
   ],
   "source": [
    "df['Word'] = df['Word'].astype(str)\n",
    "df"
   ]
  },
  {
   "cell_type": "markdown",
   "id": "cf049e3d",
   "metadata": {},
   "source": [
    "> Identify a sentence"
   ]
  },
  {
   "cell_type": "code",
   "execution_count": 36,
   "id": "5727e6ce-c1da-4913-a1a8-55ea69d6f539",
   "metadata": {
    "id": "5727e6ce-c1da-4913-a1a8-55ea69d6f539",
    "tags": []
   },
   "outputs": [],
   "source": [
    "sentence_list = []\n",
    "index = 2\n",
    "sentence_list.insert(0, \"Sentence 1\")\n",
    "for i in range(1, len(df['Word'])+1):\n",
    "    if df['Word'][i-1] == \".\":\n",
    "        sentence_list.append(\"Sentence \" + str(index))\n",
    "        index = index + 1\n",
    "    else:\n",
    "        sentence_list.append(\" \")\n",
    "\n",
    "sentence_list[0] = \"Sentence 1\"\n"
   ]
  },
  {
   "cell_type": "code",
   "execution_count": 37,
   "id": "49a72e71-d2a1-4ac2-8494-1c2fc5634e2a",
   "metadata": {
    "colab": {
     "base_uri": "https://localhost:8080/",
     "height": 673
    },
    "id": "49a72e71-d2a1-4ac2-8494-1c2fc5634e2a",
    "outputId": "a4433833-b7e1-491f-8309-083008d832b0"
   },
   "outputs": [],
   "source": [
    "df['Sentence'] = pd.Series(sentence_list)\n"
   ]
  },
  {
   "cell_type": "code",
   "execution_count": 38,
   "id": "7a490280-28c1-48d7-9300-ce6af915531b",
   "metadata": {
    "id": "7a490280-28c1-48d7-9300-ce6af915531b"
   },
   "outputs": [],
   "source": [
    "df['Sentence'] = df['Sentence'].replace(' ', np.nan).ffill()"
   ]
  },
  {
   "cell_type": "code",
   "execution_count": 39,
   "id": "5ab822ed-cde0-4cea-8ef3-bd19a2f89f70",
   "metadata": {
    "colab": {
     "base_uri": "https://localhost:8080/"
    },
    "id": "5ab822ed-cde0-4cea-8ef3-bd19a2f89f70",
    "outputId": "311fd7b9-d427-46ee-f5ea-02e2f68861ad"
   },
   "outputs": [
    {
     "name": "stdout",
     "output_type": "stream",
     "text": [
      "         Word Pos Chunk             Tag    Sentence\n",
      "0         Mâu   _     _               O  Sentence 1\n",
      "1       thuẫn   _     _               O  Sentence 1\n",
      "2        tình   _     _               O  Sentence 1\n",
      "3         cảm   _     _               O  Sentence 1\n",
      "4           ,   _     _               O  Sentence 1\n",
      "5       thanh   _     _               O  Sentence 1\n",
      "6        niên   _     _               O  Sentence 1\n",
      "7         tạt   _     _               O  Sentence 1\n",
      "8        xăng   _     _               O  Sentence 1\n",
      "9         đốt   _     _               O  Sentence 1\n",
      "10        cửa   _     _               O  Sentence 1\n",
      "11       hàng   _     _               O  Sentence 1\n",
      "12        bạn   _     _               O  Sentence 1\n",
      "13        gái   _     _               O  Sentence 1\n",
      "14        Xảy   _     _               O  Sentence 1\n",
      "15         ra   _     _               O  Sentence 1\n",
      "16        cãi   _     _               O  Sentence 1\n",
      "17         vã   _     _               O  Sentence 1\n",
      "18          ,   _     _               O  Sentence 1\n",
      "19      trong   _     _               O  Sentence 1\n",
      "20        lúc   _     _               O  Sentence 1\n",
      "21        bực   _     _               O  Sentence 1\n",
      "22        tức   _     _               O  Sentence 1\n",
      "23          ,   _     _               O  Sentence 1\n",
      "24     Nguyên   _     _        B-PERSON  Sentence 1\n",
      "25        tạt   _     _               O  Sentence 1\n",
      "26       xăng   _     _               O  Sentence 1\n",
      "27        vào   _     _               O  Sentence 1\n",
      "28        cửa   _     _               O  Sentence 1\n",
      "29       hàng   _     _               O  Sentence 1\n",
      "30        rồi   _     _               O  Sentence 1\n",
      "31       kinh   _     _               O  Sentence 1\n",
      "32      doanh   _     _               O  Sentence 1\n",
      "33        của   _     _               O  Sentence 1\n",
      "34        bạn   _     _               O  Sentence 1\n",
      "35        gái   _     _               O  Sentence 1\n",
      "36        rồi   _     _               O  Sentence 1\n",
      "37       châm   _     _               O  Sentence 1\n",
      "38        lửa   _     _               O  Sentence 1\n",
      "39        đốt   _     _               O  Sentence 1\n",
      "40          .   _     _               O  Sentence 1\n",
      "41       Theo   _     _               O  Sentence 2\n",
      "42        tin   _     _               O  Sentence 2\n",
      "43        tức   _     _               O  Sentence 2\n",
      "44       trên   _     _               O  Sentence 2\n",
      "45        báo   _     _               O  Sentence 2\n",
      "46  VnExpress   _     _  B-ORGANIZATION  Sentence 2\n",
      "47          ,   _     _               O  Sentence 2\n",
      "48       ngày   _     _               O  Sentence 2\n",
      "49       22/9   _     _      B-DATETIME  Sentence 2\n"
     ]
    }
   ],
   "source": [
    "print(df.head(50))"
   ]
  },
  {
   "cell_type": "code",
   "execution_count": 40,
   "id": "14671d0b-1189-4e2a-865a-9f0dc7e12f11",
   "metadata": {
    "colab": {
     "base_uri": "https://localhost:8080/",
     "height": 424
    },
    "id": "14671d0b-1189-4e2a-865a-9f0dc7e12f11",
    "outputId": "de13b18c-8cc8-41e5-d1b5-30768c79dd09"
   },
   "outputs": [
    {
     "data": {
      "text/html": [
       "<div>\n",
       "<style scoped>\n",
       "    .dataframe tbody tr th:only-of-type {\n",
       "        vertical-align: middle;\n",
       "    }\n",
       "\n",
       "    .dataframe tbody tr th {\n",
       "        vertical-align: top;\n",
       "    }\n",
       "\n",
       "    .dataframe thead th {\n",
       "        text-align: right;\n",
       "    }\n",
       "</style>\n",
       "<table border=\"1\" class=\"dataframe\">\n",
       "  <thead>\n",
       "    <tr style=\"text-align: right;\">\n",
       "      <th></th>\n",
       "      <th>Sentence</th>\n",
       "      <th>Word</th>\n",
       "      <th>Tag</th>\n",
       "    </tr>\n",
       "  </thead>\n",
       "  <tbody>\n",
       "    <tr>\n",
       "      <th>0</th>\n",
       "      <td>Sentence 1</td>\n",
       "      <td>Mâu</td>\n",
       "      <td>O</td>\n",
       "    </tr>\n",
       "    <tr>\n",
       "      <th>1</th>\n",
       "      <td>Sentence 1</td>\n",
       "      <td>thuẫn</td>\n",
       "      <td>O</td>\n",
       "    </tr>\n",
       "    <tr>\n",
       "      <th>2</th>\n",
       "      <td>Sentence 1</td>\n",
       "      <td>tình</td>\n",
       "      <td>O</td>\n",
       "    </tr>\n",
       "    <tr>\n",
       "      <th>3</th>\n",
       "      <td>Sentence 1</td>\n",
       "      <td>cảm</td>\n",
       "      <td>O</td>\n",
       "    </tr>\n",
       "    <tr>\n",
       "      <th>4</th>\n",
       "      <td>Sentence 1</td>\n",
       "      <td>,</td>\n",
       "      <td>O</td>\n",
       "    </tr>\n",
       "    <tr>\n",
       "      <th>...</th>\n",
       "      <td>...</td>\n",
       "      <td>...</td>\n",
       "      <td>...</td>\n",
       "    </tr>\n",
       "    <tr>\n",
       "      <th>479248</th>\n",
       "      <td>Sentence 13014</td>\n",
       "      <td>Cao</td>\n",
       "      <td>B-PERSON</td>\n",
       "    </tr>\n",
       "    <tr>\n",
       "      <th>479249</th>\n",
       "      <td>Sentence 13014</td>\n",
       "      <td>Lực</td>\n",
       "      <td>I-PERSON</td>\n",
       "    </tr>\n",
       "    <tr>\n",
       "      <th>479250</th>\n",
       "      <td>Sentence 13014</td>\n",
       "      <td>(</td>\n",
       "      <td>O</td>\n",
       "    </tr>\n",
       "    <tr>\n",
       "      <th>479251</th>\n",
       "      <td>Sentence 13014</td>\n",
       "      <td>Theo</td>\n",
       "      <td>O</td>\n",
       "    </tr>\n",
       "    <tr>\n",
       "      <th>479252</th>\n",
       "      <td>Sentence 13014</td>\n",
       "      <td>NDTV</td>\n",
       "      <td>B-ORGANIZATION</td>\n",
       "    </tr>\n",
       "  </tbody>\n",
       "</table>\n",
       "<p>479253 rows × 3 columns</p>\n",
       "</div>"
      ],
      "text/plain": [
       "              Sentence   Word             Tag\n",
       "0           Sentence 1    Mâu               O\n",
       "1           Sentence 1  thuẫn               O\n",
       "2           Sentence 1   tình               O\n",
       "3           Sentence 1    cảm               O\n",
       "4           Sentence 1      ,               O\n",
       "...                ...    ...             ...\n",
       "479248  Sentence 13014    Cao        B-PERSON\n",
       "479249  Sentence 13014    Lực        I-PERSON\n",
       "479250  Sentence 13014      (               O\n",
       "479251  Sentence 13014   Theo               O\n",
       "479252  Sentence 13014   NDTV  B-ORGANIZATION\n",
       "\n",
       "[479253 rows x 3 columns]"
      ]
     },
     "execution_count": 40,
     "metadata": {},
     "output_type": "execute_result"
    }
   ],
   "source": [
    "df1 = df[['Sentence', 'Word', 'Tag']]\n",
    "df1"
   ]
  },
  {
   "cell_type": "markdown",
   "id": "qAX75tF_qE2b",
   "metadata": {
    "id": "qAX75tF_qE2b"
   },
   "source": [
    "> Count tag"
   ]
  },
  {
   "cell_type": "code",
   "execution_count": 41,
   "id": "530d55aa-25af-4828-90c5-344b4ab313de",
   "metadata": {
    "id": "530d55aa-25af-4828-90c5-344b4ab313de",
    "outputId": "90393d47-bc90-46ca-d9f7-36025df4d5bd"
   },
   "outputs": [
    {
     "name": "stdout",
     "output_type": "stream",
     "text": [
      "List of tags: I-DATETIME-SET, B-ORGANIZATION, I-DATETIME-DATE, B-DATETIME-SET, B-LOCATION-STRUC, B-DATETIME-DATERANGE, I-LOCATION-GPE, I-LOCATION-STRUC, B-ORGANIZATION-SPORTS, I-ORGANIZATION, I-LOCATION, I-DATETIME-DURATION, I-DATETIME-TIME, I-ORGANIZATION-MED, I-DATETIME-DATERANGE, I-DATETIME, I-LOCATION-GEO, I-ORGANIZATION-STOCK, B-LOCATION-GPE, B-ORGANIZATION-MED, B-DATETIME-TIME, B-ORGANIZATION-STOCK, B-LOCATION, I-ORGANIZATION-SPORTS, I-DATETIME-TIMERANGE, B-DATETIME-TIMERANGE, B-PERSON, O, I-PERSON, B-DATETIME-DURATION, B-LOCATION-GEO, B-DATETIME, B-DATETIME-DATE\n",
      "Total Number of tags 33\n"
     ]
    }
   ],
   "source": [
    "list_tags = list(set(df1[\"Tag\"].values))\n",
    "len_tags = len(list_tags)\n",
    "print(\"List of tags: \" + ', '.join([tag for tag in list_tags]))\n",
    "print(f\"Total Number of tags {len_tags}\")"
   ]
  },
  {
   "cell_type": "markdown",
   "id": "7l7NRYXps5bl",
   "metadata": {
    "id": "7l7NRYXps5bl"
   },
   "source": [
    "# Encoding Data"
   ]
  },
  {
   "cell_type": "code",
   "execution_count": 42,
   "id": "1b4f6ed7-6a4e-4966-9d73-30757efc6b21",
   "metadata": {
    "id": "1b4f6ed7-6a4e-4966-9d73-30757efc6b21"
   },
   "outputs": [],
   "source": [
    "class getsentence(object):\n",
    "    def __init__(self, data):\n",
    "        self.n_sent = 1.0\n",
    "        self.data = data\n",
    "        self.empty = False\n",
    "        agg_func = lambda s: [(w, t) for w, t in zip(s[\"Word\"].values.tolist(),\n",
    "                                                     s[\"Tag\"].values.tolist())]\n",
    "        self.grouped = self.data.groupby(\"Sentence\").apply(agg_func)\n",
    "        self.sentences = [s for s in self.grouped]"
   ]
  },
  {
   "cell_type": "code",
   "execution_count": 43,
   "id": "65f351b9-eebc-4964-b589-c15391f811bd",
   "metadata": {
    "id": "65f351b9-eebc-4964-b589-c15391f811bd"
   },
   "outputs": [
    {
     "name": "stderr",
     "output_type": "stream",
     "text": [
      "C:\\Users\\hdang\\AppData\\Local\\Temp\\ipykernel_3260\\1803136665.py:8: DeprecationWarning: DataFrameGroupBy.apply operated on the grouping columns. This behavior is deprecated, and in a future version of pandas the grouping columns will be excluded from the operation. Either pass `include_groups=False` to exclude the groupings or explicitly select the grouping columns after groupby to silence this warning.\n",
      "  self.grouped = self.data.groupby(\"Sentence\").apply(agg_func)\n"
     ]
    }
   ],
   "source": [
    "getter = getsentence(df1)"
   ]
  },
  {
   "cell_type": "code",
   "execution_count": 44,
   "id": "30637a63-6dfe-4dca-b688-67753099cff2",
   "metadata": {
    "colab": {
     "base_uri": "https://localhost:8080/"
    },
    "id": "30637a63-6dfe-4dca-b688-67753099cff2",
    "outputId": "690aec18-9cd8-46a6-a5be-42de0dae118d"
   },
   "outputs": [
    {
     "name": "stdout",
     "output_type": "stream",
     "text": [
      "[('Nhiều', 'O'), ('người', 'O'), ('đồn', 'O'), ('đoán', 'O'), (',', 'O'), ('bầu', 'O'), ('Đức', 'B-PERSON'), ('sang', 'O'), ('Thái', 'B-LOCATION-GPE'), ('Lan', 'I-LOCATION-GPE'), ('để', 'O'), ('gặp', 'O'), ('gỡ', 'O'), ('Kiatisak', 'B-PERSON'), ('Mặc', 'O'), ('dù', 'O'), ('vậy', 'O'), (',', 'O'), ('người', 'O'), ('đứng', 'O'), ('đầu', 'O'), ('HAGL', 'B-ORGANIZATION-SPORTS'), ('khẳng', 'O'), ('định', 'O'), ('ông', 'O'), ('chưa', 'O'), ('có', 'O'), ('ý', 'O'), ('định', 'O'), ('mời', 'O'), ('Kiatisak', 'B-PERSON'), ('sang', 'O'), ('Việt', 'B-LOCATION-GPE'), ('Nam', 'I-LOCATION-GPE'), ('làm', 'O'), ('việc', 'O'), ('.', 'O')]\n"
     ]
    }
   ],
   "source": [
    "sentences = getter.sentences\n",
    "#ths is how a sentence will look like.\n",
    "print(sentences[10])"
   ]
  },
  {
   "cell_type": "code",
   "execution_count": 45,
   "id": "cddd144b-467d-41ac-8160-7dfbcd7039eb",
   "metadata": {
    "id": "cddd144b-467d-41ac-8160-7dfbcd7039eb"
   },
   "outputs": [],
   "source": [
    "batch_size = 64\n",
    "epochs = 50\n",
    "max_len = 75\n",
    "embedding = 40\n",
    "hidden_size = 50"
   ]
  },
  {
   "cell_type": "code",
   "execution_count": 46,
   "id": "af167ef7-b58a-41e2-afcd-6e91b5d24594",
   "metadata": {
    "id": "af167ef7-b58a-41e2-afcd-6e91b5d24594"
   },
   "outputs": [],
   "source": [
    "# Xây dựng vocab cho word và tag\n",
    "words = list(df1['Word'].unique())\n",
    "tags = list(df1['Tag'].unique())\n",
    "\n",
    "# Tạo dict word to index, thêm 2 từ đặc biệt là Unknown và Padding\n",
    "word2idx = {w : i + 2 for i, w in enumerate(words)}\n",
    "word2idx[\"UNK\"] = 1\n",
    "word2idx[\"PAD\"] = 0\n",
    "\n",
    "# Tạo dict tag to index, thêm 1 tag đặc biệt và Padding\n",
    "tag2idx = {t : i + 1 for i, t in enumerate(tags)}\n",
    "tag2idx[\"PAD\"] = 0\n",
    "\n",
    "# Tạo 2 dict index to word và index to tag\n",
    "idx2word = {i: w for w, i in word2idx.items()}\n",
    "idx2tag = {i: w for w, i in tag2idx.items()}"
   ]
  },
  {
   "cell_type": "code",
   "execution_count": 47,
   "id": "4f6178b9-5cbc-4f3d-8fd3-f77f0013faff",
   "metadata": {
    "id": "4f6178b9-5cbc-4f3d-8fd3-f77f0013faff"
   },
   "outputs": [],
   "source": [
    "# Chuyển các câu về dạng vector of index\n",
    "X = [[word2idx[w[0]] for w in s] for s in sentences]\n",
    "# Padding các câu về max_len\n",
    "X = pad_sequences(maxlen = max_len, sequences = X, padding = \"post\", value = word2idx[\"PAD\"])\n",
    "# Chuyển các tag về dạng index\n",
    "y = [[tag2idx[w[1]] for w in s] for s in sentences]\n",
    "# Tiền hành padding về max_len\n",
    "y = pad_sequences(maxlen = max_len, sequences = y, padding = \"post\", value = tag2idx[\"PAD\"])"
   ]
  },
  {
   "cell_type": "code",
   "execution_count": 48,
   "id": "fd055735-0927-4386-984e-d9c06d6bb0f9",
   "metadata": {
    "id": "fd055735-0927-4386-984e-d9c06d6bb0f9"
   },
   "outputs": [],
   "source": [
    "#from keras.utils.np_utils import to_categorical\n",
    "num_tag = df['Tag'].nunique()\n",
    "y = [to_categorical(i, num_classes = num_tag + 1) for i in y]"
   ]
  },
  {
   "cell_type": "code",
   "execution_count": 49,
   "id": "7eab71fd-b13d-49d7-95dd-ca0299fff0a6",
   "metadata": {
    "id": "7eab71fd-b13d-49d7-95dd-ca0299fff0a6"
   },
   "outputs": [],
   "source": [
    "#from sklearn.model_selection import train_test_split\n",
    "X_train, X_test, y_train, y_test = train_test_split(X, y, test_size = 0.15)"
   ]
  },
  {
   "cell_type": "markdown",
   "id": "1EMBpCiMudLD",
   "metadata": {
    "id": "1EMBpCiMudLD"
   },
   "source": [
    "# Build and Train Model - BiLSTM"
   ]
  },
  {
   "cell_type": "code",
   "execution_count": 50,
   "id": "2d34535c-75bc-4b16-9d82-b7c1e6839a58",
   "metadata": {
    "colab": {
     "base_uri": "https://localhost:8080/"
    },
    "id": "2d34535c-75bc-4b16-9d82-b7c1e6839a58",
    "outputId": "9749dafb-8cf9-4349-818c-8775b05a8212"
   },
   "outputs": [
    {
     "name": "stderr",
     "output_type": "stream",
     "text": [
      "c:\\Users\\hdang\\.virtualenvs\\DM-xmUrTfoX\\Lib\\site-packages\\keras\\src\\layers\\core\\embedding.py:86: UserWarning: Argument `input_length` is deprecated. Just remove it.\n",
      "  warnings.warn(\n"
     ]
    },
    {
     "data": {
      "text/html": [
       "<pre style=\"white-space:pre;overflow-x:auto;line-height:normal;font-family:Menlo,'DejaVu Sans Mono',consolas,'Courier New',monospace\"><span style=\"font-weight: bold\">Model: \"functional_3\"</span>\n",
       "</pre>\n"
      ],
      "text/plain": [
       "\u001b[1mModel: \"functional_3\"\u001b[0m\n"
      ]
     },
     "metadata": {},
     "output_type": "display_data"
    },
    {
     "data": {
      "text/html": [
       "<pre style=\"white-space:pre;overflow-x:auto;line-height:normal;font-family:Menlo,'DejaVu Sans Mono',consolas,'Courier New',monospace\">┏━━━━━━━━━━━━━━━━━━━━━━━━━━━━━━━━━┳━━━━━━━━━━━━━━━━━━━━━━━━┳━━━━━━━━━━━━━━━┓\n",
       "┃<span style=\"font-weight: bold\"> Layer (type)                    </span>┃<span style=\"font-weight: bold\"> Output Shape           </span>┃<span style=\"font-weight: bold\">       Param # </span>┃\n",
       "┡━━━━━━━━━━━━━━━━━━━━━━━━━━━━━━━━━╇━━━━━━━━━━━━━━━━━━━━━━━━╇━━━━━━━━━━━━━━━┩\n",
       "│ input_layer_1 (<span style=\"color: #0087ff; text-decoration-color: #0087ff\">InputLayer</span>)      │ (<span style=\"color: #00d7ff; text-decoration-color: #00d7ff\">None</span>, <span style=\"color: #00af00; text-decoration-color: #00af00\">75</span>)             │             <span style=\"color: #00af00; text-decoration-color: #00af00\">0</span> │\n",
       "├─────────────────────────────────┼────────────────────────┼───────────────┤\n",
       "│ embedding_1 (<span style=\"color: #0087ff; text-decoration-color: #0087ff\">Embedding</span>)         │ (<span style=\"color: #00d7ff; text-decoration-color: #00d7ff\">None</span>, <span style=\"color: #00af00; text-decoration-color: #00af00\">75</span>, <span style=\"color: #00af00; text-decoration-color: #00af00\">75</span>)         │       <span style=\"color: #00af00; text-decoration-color: #00af00\">953,850</span> │\n",
       "├─────────────────────────────────┼────────────────────────┼───────────────┤\n",
       "│ spatial_dropout1d_1             │ (<span style=\"color: #00d7ff; text-decoration-color: #00d7ff\">None</span>, <span style=\"color: #00af00; text-decoration-color: #00af00\">75</span>, <span style=\"color: #00af00; text-decoration-color: #00af00\">75</span>)         │             <span style=\"color: #00af00; text-decoration-color: #00af00\">0</span> │\n",
       "│ (<span style=\"color: #0087ff; text-decoration-color: #0087ff\">SpatialDropout1D</span>)              │                        │               │\n",
       "├─────────────────────────────────┼────────────────────────┼───────────────┤\n",
       "│ bidirectional_1 (<span style=\"color: #0087ff; text-decoration-color: #0087ff\">Bidirectional</span>) │ (<span style=\"color: #00d7ff; text-decoration-color: #00d7ff\">None</span>, <span style=\"color: #00af00; text-decoration-color: #00af00\">75</span>, <span style=\"color: #00af00; text-decoration-color: #00af00\">200</span>)        │       <span style=\"color: #00af00; text-decoration-color: #00af00\">140,800</span> │\n",
       "├─────────────────────────────────┼────────────────────────┼───────────────┤\n",
       "│ time_distributed_1              │ (<span style=\"color: #00d7ff; text-decoration-color: #00d7ff\">None</span>, <span style=\"color: #00af00; text-decoration-color: #00af00\">75</span>, <span style=\"color: #00af00; text-decoration-color: #00af00\">34</span>)         │         <span style=\"color: #00af00; text-decoration-color: #00af00\">6,834</span> │\n",
       "│ (<span style=\"color: #0087ff; text-decoration-color: #0087ff\">TimeDistributed</span>)               │                        │               │\n",
       "└─────────────────────────────────┴────────────────────────┴───────────────┘\n",
       "</pre>\n"
      ],
      "text/plain": [
       "┏━━━━━━━━━━━━━━━━━━━━━━━━━━━━━━━━━┳━━━━━━━━━━━━━━━━━━━━━━━━┳━━━━━━━━━━━━━━━┓\n",
       "┃\u001b[1m \u001b[0m\u001b[1mLayer (type)                   \u001b[0m\u001b[1m \u001b[0m┃\u001b[1m \u001b[0m\u001b[1mOutput Shape          \u001b[0m\u001b[1m \u001b[0m┃\u001b[1m \u001b[0m\u001b[1m      Param #\u001b[0m\u001b[1m \u001b[0m┃\n",
       "┡━━━━━━━━━━━━━━━━━━━━━━━━━━━━━━━━━╇━━━━━━━━━━━━━━━━━━━━━━━━╇━━━━━━━━━━━━━━━┩\n",
       "│ input_layer_1 (\u001b[38;5;33mInputLayer\u001b[0m)      │ (\u001b[38;5;45mNone\u001b[0m, \u001b[38;5;34m75\u001b[0m)             │             \u001b[38;5;34m0\u001b[0m │\n",
       "├─────────────────────────────────┼────────────────────────┼───────────────┤\n",
       "│ embedding_1 (\u001b[38;5;33mEmbedding\u001b[0m)         │ (\u001b[38;5;45mNone\u001b[0m, \u001b[38;5;34m75\u001b[0m, \u001b[38;5;34m75\u001b[0m)         │       \u001b[38;5;34m953,850\u001b[0m │\n",
       "├─────────────────────────────────┼────────────────────────┼───────────────┤\n",
       "│ spatial_dropout1d_1             │ (\u001b[38;5;45mNone\u001b[0m, \u001b[38;5;34m75\u001b[0m, \u001b[38;5;34m75\u001b[0m)         │             \u001b[38;5;34m0\u001b[0m │\n",
       "│ (\u001b[38;5;33mSpatialDropout1D\u001b[0m)              │                        │               │\n",
       "├─────────────────────────────────┼────────────────────────┼───────────────┤\n",
       "│ bidirectional_1 (\u001b[38;5;33mBidirectional\u001b[0m) │ (\u001b[38;5;45mNone\u001b[0m, \u001b[38;5;34m75\u001b[0m, \u001b[38;5;34m200\u001b[0m)        │       \u001b[38;5;34m140,800\u001b[0m │\n",
       "├─────────────────────────────────┼────────────────────────┼───────────────┤\n",
       "│ time_distributed_1              │ (\u001b[38;5;45mNone\u001b[0m, \u001b[38;5;34m75\u001b[0m, \u001b[38;5;34m34\u001b[0m)         │         \u001b[38;5;34m6,834\u001b[0m │\n",
       "│ (\u001b[38;5;33mTimeDistributed\u001b[0m)               │                        │               │\n",
       "└─────────────────────────────────┴────────────────────────┴───────────────┘\n"
      ]
     },
     "metadata": {},
     "output_type": "display_data"
    },
    {
     "data": {
      "text/html": [
       "<pre style=\"white-space:pre;overflow-x:auto;line-height:normal;font-family:Menlo,'DejaVu Sans Mono',consolas,'Courier New',monospace\"><span style=\"font-weight: bold\"> Total params: </span><span style=\"color: #00af00; text-decoration-color: #00af00\">1,101,484</span> (4.20 MB)\n",
       "</pre>\n"
      ],
      "text/plain": [
       "\u001b[1m Total params: \u001b[0m\u001b[38;5;34m1,101,484\u001b[0m (4.20 MB)\n"
      ]
     },
     "metadata": {},
     "output_type": "display_data"
    },
    {
     "data": {
      "text/html": [
       "<pre style=\"white-space:pre;overflow-x:auto;line-height:normal;font-family:Menlo,'DejaVu Sans Mono',consolas,'Courier New',monospace\"><span style=\"font-weight: bold\"> Trainable params: </span><span style=\"color: #00af00; text-decoration-color: #00af00\">1,101,484</span> (4.20 MB)\n",
       "</pre>\n"
      ],
      "text/plain": [
       "\u001b[1m Trainable params: \u001b[0m\u001b[38;5;34m1,101,484\u001b[0m (4.20 MB)\n"
      ]
     },
     "metadata": {},
     "output_type": "display_data"
    },
    {
     "data": {
      "text/html": [
       "<pre style=\"white-space:pre;overflow-x:auto;line-height:normal;font-family:Menlo,'DejaVu Sans Mono',consolas,'Courier New',monospace\"><span style=\"font-weight: bold\"> Non-trainable params: </span><span style=\"color: #00af00; text-decoration-color: #00af00\">0</span> (0.00 B)\n",
       "</pre>\n"
      ],
      "text/plain": [
       "\u001b[1m Non-trainable params: \u001b[0m\u001b[38;5;34m0\u001b[0m (0.00 B)\n"
      ]
     },
     "metadata": {},
     "output_type": "display_data"
    }
   ],
   "source": [
    "input_word = Input(shape = (max_len,))\n",
    "model = Embedding(input_dim = len(words)+2, output_dim = max_len, input_length = max_len)(input_word)\n",
    "model = SpatialDropout1D(0.1)(model)\n",
    "model = Bidirectional(LSTM(units = 100,return_sequences = True, recurrent_dropout = 0.1))(model)\n",
    "out = TimeDistributed(Dense(num_tag+1,activation = 'softmax'))(model)\n",
    "model = Model(input_word,out)\n",
    "\n",
    "model.compile(optimizer = 'adam',loss = 'categorical_crossentropy',metrics = ['accuracy'])\n",
    "model.summary()"
   ]
  },
  {
   "cell_type": "code",
   "execution_count": 51,
   "id": "9cf102a1-49c9-4e81-958f-3803c319d106",
   "metadata": {
    "colab": {
     "base_uri": "https://localhost:8080/"
    },
    "id": "9cf102a1-49c9-4e81-958f-3803c319d106",
    "outputId": "fb90f437-0260-4c6b-c357-e42707f87bc4"
   },
   "outputs": [
    {
     "name": "stdout",
     "output_type": "stream",
     "text": [
      "Epoch 1/150\n",
      "\u001b[1m139/139\u001b[0m \u001b[32m━━━━━━━━━━━━━━━━━━━━\u001b[0m\u001b[37m\u001b[0m \u001b[1m29s\u001b[0m 135ms/step - accuracy: 0.8060 - loss: 0.9996 - val_accuracy: 0.9512 - val_loss: 0.2412\n",
      "Epoch 2/150\n",
      "\u001b[1m124/139\u001b[0m \u001b[32m━━━━━━━━━━━━━━━━━\u001b[0m\u001b[37m━━━\u001b[0m \u001b[1m1s\u001b[0m 125ms/step - accuracy: 0.9553 - loss: 0.2067"
     ]
    }
   ],
   "source": [
    "checkpoint = ModelCheckpoint(filepath = 'model.keras',\n",
    "                           verbose = 0,\n",
    "                           mode = 'auto',\n",
    "                           save_best_only = True,\n",
    "                           monitor='val_loss')\n",
    "history = model.fit(X_train, np.array(y_train), batch_size = 64, verbose = 1, epochs = 150, validation_split = 0.2, callbacks=[checkpoint])"
   ]
  },
  {
   "cell_type": "markdown",
   "id": "ZObRuZieuvy5",
   "metadata": {
    "id": "ZObRuZieuvy5"
   },
   "source": [
    "# Test and Report"
   ]
  },
  {
   "cell_type": "code",
   "execution_count": null,
   "id": "ab43961c-64ee-4a98-ab4e-61a0272002d8",
   "metadata": {
    "colab": {
     "base_uri": "https://localhost:8080/"
    },
    "id": "ab43961c-64ee-4a98-ab4e-61a0272002d8",
    "outputId": "9a3d7727-b82f-4f39-871e-b032daa8b0d0"
   },
   "outputs": [
    {
     "name": "stdout",
     "output_type": "stream",
     "text": [
      "\u001b[1m62/62\u001b[0m \u001b[32m━━━━━━━━━━━━━━━━━━━━\u001b[0m\u001b[37m\u001b[0m \u001b[1m6s\u001b[0m 58ms/step\n"
     ]
    },
    {
     "name": "stderr",
     "output_type": "stream",
     "text": [
      "c:\\Users\\hdang\\.virtualenvs\\DM-xmUrTfoX\\Lib\\site-packages\\seqeval\\metrics\\sequence_labeling.py:171: UserWarning: PAD seems not to be NE tag.\n",
      "  warnings.warn('{} seems not to be NE tag.'.format(chunk))\n"
     ]
    },
    {
     "name": "stdout",
     "output_type": "stream",
     "text": [
      "F1-score is : 74.0%\n"
     ]
    }
   ],
   "source": [
    "# Test với toàn bộ tập test\n",
    "y_pred = model.predict(X_test)\n",
    "y_pred = np.argmax(y_pred, axis=-1)\n",
    "y_test_true = np.argmax(y_test, -1)\n",
    "\n",
    "# Kiểm thử F1-Score\n",
    "y_pred = [[idx2tag[i] for i in row] for row in y_pred]\n",
    "y_test_true = [[idx2tag[i] for i in row] for row in y_test_true]\n",
    "print(\"F1-score is : {:.1%}\".format(f1_score(y_test_true, y_pred)))"
   ]
  },
  {
   "cell_type": "code",
   "execution_count": null,
   "id": "OOHuqCkIcSwx",
   "metadata": {
    "colab": {
     "base_uri": "https://localhost:8080/"
    },
    "id": "OOHuqCkIcSwx",
    "outputId": "45b19464-bc84-41d9-9bbf-91161f5f5839"
   },
   "outputs": [
    {
     "name": "stdout",
     "output_type": "stream",
     "text": [
      "\u001b[1m1/1\u001b[0m \u001b[32m━━━━━━━━━━━━━━━━━━━━\u001b[0m\u001b[37m\u001b[0m \u001b[1m0s\u001b[0m 47ms/step\n",
      "Example #751\n",
      "Word           ||True\t\t\t||Pred\n",
      "**************************************************\n",
      "Việc           : O              \t O\n",
      "họ             : O              \t O\n",
      "chơi           : O              \t O\n",
      "không          : O              \t O\n",
      "tốt            : O              \t O\n",
      "trong          : O              \t O\n",
      "ba             : O              \t O\n",
      "trận           : O              \t O\n",
      "trên           : O              \t O\n",
      "sân            : O              \t O\n",
      "nhà            : O              \t O\n",
      "đang           : O              \t O\n",
      "đặt            : O              \t O\n",
      "ra             : O              \t O\n",
      "những          : O              \t O\n",
      "câu            : O              \t O\n",
      "hỏi            : O              \t O\n",
      ",              : O              \t O\n",
      "nhưng          : O              \t O\n",
      "không          : O              \t O\n",
      "có             : O              \t O\n",
      "gì             : O              \t O\n",
      "phải           : O              \t O\n",
      "nghi           : O              \t O\n",
      "ngờ            : O              \t O\n",
      "về             : O              \t O\n",
      "khả            : O              \t O\n",
      "năng           : O              \t O\n",
      "của            : O              \t O\n",
      "Real           : B-ORGANIZATION-SPORTS\t B-ORGANIZATION-SPORTS\n",
      ".              : O              \t O\n"
     ]
    }
   ],
   "source": [
    "idx = np.random.randint(0,X_test.shape[0])\n",
    "\n",
    "p = model.predict(np.array([X_test[idx]]))\n",
    "p = np.argmax(p, axis=-1)\n",
    "true = np.argmax(y_test[idx], -1)\n",
    "\n",
    "print(\"Example #{}\".format(idx))\n",
    "\n",
    "print(\"{:15}||{:5}||{}\".format(\"Word\", \"True\\t\\t\\t\", \"Pred\"))\n",
    "print(50 * \"*\")\n",
    "for w, t, pred in zip(X_test[idx], true, p[0]):\n",
    "    if w != 0:\n",
    "        print(\"{:15}: {:15}\\t {}\".format(words[w-2], idx2tag[t], idx2tag[pred]))"
   ]
  },
  {
   "cell_type": "code",
   "execution_count": null,
   "id": "2d762e64-b8f8-42eb-93c3-3040f09aca38",
   "metadata": {
    "id": "2d762e64-b8f8-42eb-93c3-3040f09aca38",
    "outputId": "7f5f84c8-a21a-43b9-9218-f9dd7b9b7d90"
   },
   "outputs": [
    {
     "name": "stderr",
     "output_type": "stream",
     "text": [
      "c:\\Users\\hdang\\.virtualenvs\\DM-xmUrTfoX\\Lib\\site-packages\\seqeval\\metrics\\v1.py:57: UndefinedMetricWarning: Recall and F-score are ill-defined and being set to 0.0 in labels with no true samples. Use `zero_division` parameter to control this behavior.\n",
      "  _warn_prf(average, modifier, msg_start, len(result))\n"
     ]
    },
    {
     "name": "stdout",
     "output_type": "stream",
     "text": [
      "                     precision    recall  f1-score   support\n",
      "\n",
      "                 AD       1.00      1.00      1.00      1842\n",
      "           DATETIME       0.31      0.27      0.29       159\n",
      "      DATETIME-DATE       0.36      0.36      0.36        70\n",
      " DATETIME-DATERANGE       0.08      0.11      0.10         9\n",
      "  DATETIME-DURATION       0.34      0.44      0.38        55\n",
      "       DATETIME-SET       0.00      0.00      0.00         0\n",
      "      DATETIME-TIME       0.20      0.21      0.21        19\n",
      " DATETIME-TIMERANGE       0.24      0.25      0.24        20\n",
      "           LOCATION       0.47      0.46      0.47       526\n",
      "       LOCATION-GEO       0.16      0.27      0.20        11\n",
      "       LOCATION-GPE       0.49      0.58      0.53       453\n",
      "     LOCATION-STRUC       0.23      0.31      0.26        39\n",
      "       ORGANIZATION       0.54      0.60      0.57       637\n",
      "   ORGANIZATION-MED       0.10      0.11      0.11         9\n",
      "ORGANIZATION-SPORTS       0.81      0.78      0.80       134\n",
      "             PERSON       0.81      0.80      0.80       865\n",
      "\n",
      "          micro avg       0.73      0.75      0.74      4848\n",
      "          macro avg       0.38      0.41      0.39      4848\n",
      "       weighted avg       0.74      0.75      0.74      4848\n",
      "\n"
     ]
    }
   ],
   "source": [
    "print(classification_report(y_test_true, y_pred))"
   ]
  }
 ],
 "metadata": {
  "colab": {
   "provenance": [],
   "toc_visible": true
  },
  "kernelspec": {
   "display_name": "Python 3 (ipykernel)",
   "language": "python",
   "name": "python3"
  },
  "language_info": {
   "codemirror_mode": {
    "name": "ipython",
    "version": 3
   },
   "file_extension": ".py",
   "mimetype": "text/x-python",
   "name": "python",
   "nbconvert_exporter": "python",
   "pygments_lexer": "ipython3",
   "version": "3.11.5"
  }
 },
 "nbformat": 4,
 "nbformat_minor": 5
}
